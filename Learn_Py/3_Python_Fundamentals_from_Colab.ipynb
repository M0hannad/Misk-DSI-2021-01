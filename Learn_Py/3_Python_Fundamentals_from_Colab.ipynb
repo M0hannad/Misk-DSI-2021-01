{
  "nbformat": 4,
  "nbformat_minor": 0,
  "metadata": {
    "colab": {
      "name": "3-Python Fundamentals from Colab.ipynb",
      "provenance": []
    },
    "kernelspec": {
      "name": "python3",
      "display_name": "Python 3"
    }
  },
  "cells": [
    {
      "cell_type": "markdown",
      "metadata": {
        "id": "p9f2-PeSFck8"
      },
      "source": [
        "## Intro to python fundamentals\n"
      ]
    },
    {
      "cell_type": "code",
      "metadata": {
        "id": "Q5Dt1UIOFZMr",
        "outputId": "373bf200-3676-4953-e783-ce7c908e589f",
        "colab": {
          "base_uri": "https://localhost:8080/",
          "height": 35
        }
      },
      "source": [
        "# Four key types\n",
        "a = 1 # int (Integers, whole numbers)\n",
        "type(a) # recall in R: typeof()\n"
      ],
      "execution_count": null,
      "outputs": [
        {
          "output_type": "execute_result",
          "data": {
            "text/plain": [
              "int"
            ]
          },
          "metadata": {
            "tags": []
          },
          "execution_count": 1
        }
      ]
    },
    {
      "cell_type": "code",
      "metadata": {
        "id": "7bdOvws3GQzL",
        "outputId": "57e370bb-a0cb-4c0a-e66c-a9f2ba3aa9f1",
        "colab": {
          "base_uri": "https://localhost:8080/",
          "height": 35
        }
      },
      "source": [
        "b = 0.25 # float (\"double\", numeric, real numbers)\n",
        "type(b)\n"
      ],
      "execution_count": null,
      "outputs": [
        {
          "output_type": "execute_result",
          "data": {
            "text/plain": [
              "float"
            ]
          },
          "metadata": {
            "tags": []
          },
          "execution_count": 2
        }
      ]
    },
    {
      "cell_type": "code",
      "metadata": {
        "id": "B1jH3Ho5GRy8",
        "outputId": "f18c9de2-b770-4435-8eaa-e5c56f85fa8b",
        "colab": {
          "base_uri": "https://localhost:8080/",
          "height": 35
        }
      },
      "source": [
        "c = 'Berlin' # str (string, \"character\", object)\n",
        "type(c)\n"
      ],
      "execution_count": null,
      "outputs": [
        {
          "output_type": "execute_result",
          "data": {
            "text/plain": [
              "str"
            ]
          },
          "metadata": {
            "tags": []
          },
          "execution_count": 3
        }
      ]
    },
    {
      "cell_type": "code",
      "metadata": {
        "id": "FZjSW4ToGSvQ",
        "outputId": "1d31ce89-dd85-4208-d444-a5d72306678d",
        "colab": {
          "base_uri": "https://localhost:8080/",
          "height": 35
        }
      },
      "source": [
        "d = True # bool (Boolean, binary, \"logical\", True/False)\n",
        "type(d)"
      ],
      "execution_count": null,
      "outputs": [
        {
          "output_type": "execute_result",
          "data": {
            "text/plain": [
              "bool"
            ]
          },
          "metadata": {
            "tags": []
          },
          "execution_count": 4
        }
      ]
    },
    {
      "cell_type": "markdown",
      "metadata": {
        "id": "5HYgT-gjHWwa"
      },
      "source": [
        "**Exercise 3.1**\n",
        "\n",
        "What will these commands produce"
      ]
    },
    {
      "cell_type": "code",
      "metadata": {
        "id": "IbgW1QTOHYz4",
        "outputId": "f1754050-0692-43ef-d48a-56ce018e1292",
        "colab": {
          "base_uri": "https://localhost:8080/",
          "height": 35
        }
      },
      "source": [
        "1 + 1"
      ],
      "execution_count": null,
      "outputs": [
        {
          "output_type": "execute_result",
          "data": {
            "text/plain": [
              "2"
            ]
          },
          "metadata": {
            "tags": []
          },
          "execution_count": 5
        }
      ]
    },
    {
      "cell_type": "code",
      "metadata": {
        "id": "31gZTBd2HfzQ",
        "outputId": "a4c120d7-4484-4b1b-d51b-0dff45a3165d",
        "colab": {
          "base_uri": "https://localhost:8080/",
          "height": 35
        }
      },
      "source": [
        "'1' + '1'"
      ],
      "execution_count": null,
      "outputs": [
        {
          "output_type": "execute_result",
          "data": {
            "application/vnd.google.colaboratory.intrinsic+json": {
              "type": "string"
            },
            "text/plain": [
              "'11'"
            ]
          },
          "metadata": {
            "tags": []
          },
          "execution_count": 6
        }
      ]
    },
    {
      "cell_type": "markdown",
      "metadata": {
        "id": "cf9jcT6vH8zB"
      },
      "source": [
        "In the above command we \"added\" two strings together \"concatenate\". In R, we would use `paste()`"
      ]
    },
    {
      "cell_type": "code",
      "metadata": {
        "id": "-5YAJNa0Hhh2",
        "outputId": "17021042-3b4e-4b28-cf08-ccb2a3e83e0a",
        "colab": {
          "base_uri": "https://localhost:8080/",
          "height": 35
        }
      },
      "source": [
        "'1' * 5"
      ],
      "execution_count": null,
      "outputs": [
        {
          "output_type": "execute_result",
          "data": {
            "application/vnd.google.colaboratory.intrinsic+json": {
              "type": "string"
            },
            "text/plain": [
              "'11111'"
            ]
          },
          "metadata": {
            "tags": []
          },
          "execution_count": 7
        }
      ]
    },
    {
      "cell_type": "markdown",
      "metadata": {
        "id": "fDCPZJ3-IHTB"
      },
      "source": [
        "prediction: error because you're \"adding\" a `str` with `int`. Or... 11111, or `15`."
      ]
    },
    {
      "cell_type": "code",
      "metadata": {
        "id": "iM0eKMgMHiWZ",
        "outputId": "660ea34b-8bc7-4498-fccf-ef3d48435a28",
        "colab": {
          "base_uri": "https://localhost:8080/",
          "height": 35
        }
      },
      "source": [
        "'1' '1'"
      ],
      "execution_count": null,
      "outputs": [
        {
          "output_type": "execute_result",
          "data": {
            "application/vnd.google.colaboratory.intrinsic+json": {
              "type": "string"
            },
            "text/plain": [
              "'11'"
            ]
          },
          "metadata": {
            "tags": []
          },
          "execution_count": 8
        }
      ]
    },
    {
      "cell_type": "markdown",
      "metadata": {
        "id": "d-r03WdMJ0Ee"
      },
      "source": [
        "## Exploring Functions & Methods"
      ]
    },
    {
      "cell_type": "markdown",
      "metadata": {
        "id": "0yPckWfWKhsN"
      },
      "source": [
        "First initialize some packages"
      ]
    },
    {
      "cell_type": "code",
      "metadata": {
        "id": "mPXxPmejJzKd",
        "outputId": "b8df82ad-132f-4bb7-cdee-21a0774771bf",
        "colab": {
          "base_uri": "https://localhost:8080/",
          "height": 73
        }
      },
      "source": [
        "import math # literally from math import *\n",
        "import numpy as np\n",
        "import pandas as pd\n",
        "from scipy import stats\n",
        "from scipy.stats import ttest_ind\n",
        "from statsmodels.stats.multicomp import pairwise_tukeyhsd\n",
        "from statsmodels.formula.api import ols"
      ],
      "execution_count": null,
      "outputs": [
        {
          "output_type": "stream",
          "text": [
            "/usr/local/lib/python3.6/dist-packages/statsmodels/tools/_testing.py:19: FutureWarning: pandas.util.testing is deprecated. Use the functions in the public API at pandas.testing instead.\n",
            "  import pandas.util.testing as tm\n"
          ],
          "name": "stderr"
        }
      ]
    },
    {
      "cell_type": "markdown",
      "metadata": {
        "id": "aarr1Cr1KlB-"
      },
      "source": [
        "Call some basic functions"
      ]
    },
    {
      "cell_type": "code",
      "metadata": {
        "id": "_s5YpvwGKoBM",
        "outputId": "f4962ed8-13a0-4d4c-cb76-2ac5c8ab6912",
        "colab": {
          "base_uri": "https://localhost:8080/",
          "height": 35
        }
      },
      "source": [
        "numb = 8\n",
        "np.log2(numb)"
      ],
      "execution_count": null,
      "outputs": [
        {
          "output_type": "execute_result",
          "data": {
            "text/plain": [
              "3.0"
            ]
          },
          "metadata": {
            "tags": []
          },
          "execution_count": 10
        }
      ]
    },
    {
      "cell_type": "code",
      "metadata": {
        "id": "iuUkhwdaLK9q",
        "outputId": "6a8397a2-8d2c-4d8e-87d5-852f7de2952b",
        "colab": {
          "base_uri": "https://localhost:8080/",
          "height": 35
        }
      },
      "source": [
        "math.log2(8)"
      ],
      "execution_count": null,
      "outputs": [
        {
          "output_type": "execute_result",
          "data": {
            "text/plain": [
              "3.0"
            ]
          },
          "metadata": {
            "tags": []
          },
          "execution_count": 11
        }
      ]
    },
    {
      "cell_type": "markdown",
      "metadata": {
        "id": "dUNC9BcyL9lU"
      },
      "source": [
        "### Lists (Data containers I)"
      ]
    },
    {
      "cell_type": "markdown",
      "metadata": {
        "id": "Eh_usUDcMdtG"
      },
      "source": [
        "This give an error :/ `can only concatenate list (not \"int\") to list`\n",
        "\n"
      ]
    },
    {
      "cell_type": "code",
      "metadata": {
        "id": "-T-8jqd7MDhW"
      },
      "source": [
        "# [1, 6, 9, 36] + 100"
      ],
      "execution_count": null,
      "outputs": []
    },
    {
      "cell_type": "markdown",
      "metadata": {
        "id": "zYY7heXVMt0B"
      },
      "source": [
        "Below, we may predict `11,106,19,136` if we expect vector recycling (as in R,), but what we really get is ... `1,6,9,36,10,100`"
      ]
    },
    {
      "cell_type": "code",
      "metadata": {
        "id": "7HRRTQSOMEfZ",
        "outputId": "44a755fc-8e21-41f2-f316-cbf0835e29e3",
        "colab": {
          "base_uri": "https://localhost:8080/",
          "height": 35
        }
      },
      "source": [
        "[1, 6, 9, 36] + [10, 100]\n"
      ],
      "execution_count": null,
      "outputs": [
        {
          "output_type": "execute_result",
          "data": {
            "text/plain": [
              "[1, 6, 9, 36, 10, 100]"
            ]
          },
          "metadata": {
            "tags": []
          },
          "execution_count": 13
        }
      ]
    },
    {
      "cell_type": "markdown",
      "metadata": {
        "id": "6F3pvs9MMMJk"
      },
      "source": [
        "Below we'll get the same thing"
      ]
    },
    {
      "cell_type": "code",
      "metadata": {
        "id": "6tISQ6qTMJAv",
        "outputId": "b5218d6b-0b2d-4b47-dd92-86ca17d9e2fd",
        "colab": {
          "base_uri": "https://localhost:8080/",
          "height": 35
        }
      },
      "source": [
        "[1, 6, 9, 36] + [100, 200, 300, 400]\n",
        "\n"
      ],
      "execution_count": null,
      "outputs": [
        {
          "output_type": "execute_result",
          "data": {
            "text/plain": [
              "[1, 6, 9, 36, 100, 200, 300, 400]"
            ]
          },
          "metadata": {
            "tags": []
          },
          "execution_count": 14
        }
      ]
    },
    {
      "cell_type": "code",
      "metadata": {
        "id": "zwDW0nIzMKA6",
        "outputId": "1fa13e5a-c808-4a17-b565-20f6b4b1b984",
        "colab": {
          "base_uri": "https://localhost:8080/",
          "height": 35
        }
      },
      "source": [
        "[1, 6, 9, 36] + [100, \"dogs\", 300, 400]\n",
        "\n"
      ],
      "execution_count": null,
      "outputs": [
        {
          "output_type": "execute_result",
          "data": {
            "text/plain": [
              "[1, 6, 9, 36, 100, 'dogs', 300, 400]"
            ]
          },
          "metadata": {
            "tags": []
          },
          "execution_count": 15
        }
      ]
    },
    {
      "cell_type": "markdown",
      "metadata": {
        "id": "3pujGc7bNb0L"
      },
      "source": [
        "This shows us that lists can be _heterogeneous_"
      ]
    },
    {
      "cell_type": "markdown",
      "metadata": {
        "id": "dOx0ymT6N7iG"
      },
      "source": [
        ""
      ]
    },
    {
      "cell_type": "code",
      "metadata": {
        "id": "lixC9nMOOCof",
        "outputId": "1134c60b-1636-4c45-c750-e1c49e09e161",
        "colab": {
          "base_uri": "https://localhost:8080/",
          "height": 35
        }
      },
      "source": [
        "heights = [167, 188, 178, 194, 171, 169]\n",
        "heights"
      ],
      "execution_count": null,
      "outputs": [
        {
          "output_type": "execute_result",
          "data": {
            "text/plain": [
              "[167, 188, 178, 194, 171, 169]"
            ]
          },
          "metadata": {
            "tags": []
          },
          "execution_count": 16
        }
      ]
    },
    {
      "cell_type": "code",
      "metadata": {
        "id": "alz_yQMGOE-L",
        "outputId": "f2879c86-b100-4388-c407-d758d0225986",
        "colab": {
          "base_uri": "https://localhost:8080/",
          "height": 35
        }
      },
      "source": [
        "type(heights)"
      ],
      "execution_count": null,
      "outputs": [
        {
          "output_type": "execute_result",
          "data": {
            "text/plain": [
              "list"
            ]
          },
          "metadata": {
            "tags": []
          },
          "execution_count": 17
        }
      ]
    },
    {
      "cell_type": "code",
      "metadata": {
        "id": "k3OPqMW9QN3E",
        "outputId": "5705bee2-c740-4bb2-b4f3-bc28f9a42361",
        "colab": {
          "base_uri": "https://localhost:8080/",
          "height": 35
        }
      },
      "source": [
        "np.mean(heights) # the mean"
      ],
      "execution_count": null,
      "outputs": [
        {
          "output_type": "execute_result",
          "data": {
            "text/plain": [
              "177.83333333333334"
            ]
          },
          "metadata": {
            "tags": []
          },
          "execution_count": 18
        }
      ]
    },
    {
      "cell_type": "code",
      "metadata": {
        "id": "ML0HRyYOQkmB",
        "outputId": "edf66647-59dd-487b-c03c-e0effb16c8a0",
        "colab": {
          "base_uri": "https://localhost:8080/",
          "height": 35
        }
      },
      "source": [
        "np.std(heights) # the standard deviation"
      ],
      "execution_count": null,
      "outputs": [
        {
          "output_type": "execute_result",
          "data": {
            "text/plain": [
              "10.05678322769706"
            ]
          },
          "metadata": {
            "tags": []
          },
          "execution_count": 19
        }
      ]
    },
    {
      "cell_type": "code",
      "metadata": {
        "id": "s73cgvujRKFx",
        "outputId": "2202aba2-e9a8-46ea-d397-b98c4ba3a024",
        "colab": {
          "base_uri": "https://localhost:8080/",
          "height": 35
        }
      },
      "source": [
        "sum(heights)"
      ],
      "execution_count": null,
      "outputs": [
        {
          "output_type": "execute_result",
          "data": {
            "text/plain": [
              "1067"
            ]
          },
          "metadata": {
            "tags": []
          },
          "execution_count": 20
        }
      ]
    },
    {
      "cell_type": "code",
      "metadata": {
        "id": "ohHi0YrkRM5e",
        "outputId": "26dab30d-1195-4840-a8c2-fcae06ed51e4",
        "colab": {
          "base_uri": "https://localhost:8080/",
          "height": 35
        }
      },
      "source": [
        "len(heights) # The number of elements, would use length()"
      ],
      "execution_count": null,
      "outputs": [
        {
          "output_type": "execute_result",
          "data": {
            "text/plain": [
              "6"
            ]
          },
          "metadata": {
            "tags": []
          },
          "execution_count": 21
        }
      ]
    },
    {
      "cell_type": "markdown",
      "metadata": {
        "id": "3EBNaILMRlBV"
      },
      "source": [
        " **Exercise 3.3**\n",
        "\n",
        " Calculate the lower and upper limits of the 95% confidence interval for the list of heights."
      ]
    },
    {
      "cell_type": "code",
      "metadata": {
        "id": "vns3oKRtRkSO",
        "outputId": "6db02288-386a-40d8-84c6-4f5842bb3f4b",
        "colab": {
          "base_uri": "https://localhost:8080/",
          "height": 35
        }
      },
      "source": [
        "# Lower limit: mean - 1.96 * sd/sqrt of n\n",
        "heights_mean = np.mean(heights)\n",
        "height_sd = np.std(heights)\n",
        "height_sq_n = math.sqrt(len(heights))\n",
        "\n",
        "heights_mean - 1.96 * height_sd/height_sq_n "
      ],
      "execution_count": null,
      "outputs": [
        {
          "output_type": "execute_result",
          "data": {
            "text/plain": [
              "169.78623079519832"
            ]
          },
          "metadata": {
            "tags": []
          },
          "execution_count": 22
        }
      ]
    },
    {
      "cell_type": "code",
      "metadata": {
        "id": "H0qsDUHeTTHF",
        "outputId": "a11bc174-9351-4f79-e44a-f4305a18ee8f",
        "colab": {
          "base_uri": "https://localhost:8080/",
          "height": 35
        }
      },
      "source": [
        "# Upper limit: mean + 1.96 * sd/sqrt of n\n",
        "\n",
        "heights_mean + 1.96 * height_sd/height_sq_n \n"
      ],
      "execution_count": null,
      "outputs": [
        {
          "output_type": "execute_result",
          "data": {
            "text/plain": [
              "185.88043587146836"
            ]
          },
          "metadata": {
            "tags": []
          },
          "execution_count": 23
        }
      ]
    },
    {
      "cell_type": "markdown",
      "metadata": {
        "id": "gz8CunttRyJG"
      },
      "source": [
        "**Exercise 3.4**\n",
        "\n",
        "Using the data below:"
      ]
    },
    {
      "cell_type": "code",
      "metadata": {
        "id": "D75FzupVR04q"
      },
      "source": [
        "cities = ['Munich', 'Paris', 'Amsterdam', 'Madrid', 'Istanbul']\n",
        "dist = [584, 1054, 653, 2301, 2191]"
      ],
      "execution_count": null,
      "outputs": []
    },
    {
      "cell_type": "markdown",
      "metadata": {
        "id": "c2_0TWwuSkQw"
      },
      "source": [
        "- How many observations are there?"
      ]
    },
    {
      "cell_type": "code",
      "metadata": {
        "id": "0Kh9FE9KR9cw",
        "outputId": "dd472763-a279-4fcb-eaa7-bad4a0ad5668",
        "colab": {
          "base_uri": "https://localhost:8080/",
          "height": 35
        }
      },
      "source": [
        "len(dist)"
      ],
      "execution_count": null,
      "outputs": [
        {
          "output_type": "execute_result",
          "data": {
            "text/plain": [
              "5"
            ]
          },
          "metadata": {
            "tags": []
          },
          "execution_count": 25
        }
      ]
    },
    {
      "cell_type": "markdown",
      "metadata": {
        "id": "LP8-3HaHSnk6"
      },
      "source": [
        "- What is the longest and shortest distance?"
      ]
    },
    {
      "cell_type": "code",
      "metadata": {
        "id": "FitJNHxhSkcg",
        "outputId": "cf23a4b5-08da-4fba-e24b-e1d915962ea9",
        "colab": {
          "base_uri": "https://localhost:8080/",
          "height": 35
        }
      },
      "source": [
        "# longest\n",
        "max(dist)"
      ],
      "execution_count": null,
      "outputs": [
        {
          "output_type": "execute_result",
          "data": {
            "text/plain": [
              "2301"
            ]
          },
          "metadata": {
            "tags": []
          },
          "execution_count": 26
        }
      ]
    },
    {
      "cell_type": "code",
      "metadata": {
        "id": "YUCW1Mi3VBWf",
        "outputId": "5c886c31-936d-4016-c7b8-72c1e5c8f7aa",
        "colab": {
          "base_uri": "https://localhost:8080/",
          "height": 35
        }
      },
      "source": [
        "# shortest\n",
        "min(dist)"
      ],
      "execution_count": null,
      "outputs": [
        {
          "output_type": "execute_result",
          "data": {
            "text/plain": [
              "584"
            ]
          },
          "metadata": {
            "tags": []
          },
          "execution_count": 27
        }
      ]
    },
    {
      "cell_type": "markdown",
      "metadata": {
        "id": "__rRV0s1Sk7_"
      },
      "source": [
        "- Get the average distance"
      ]
    },
    {
      "cell_type": "code",
      "metadata": {
        "id": "RFHv4DY8SlF5",
        "outputId": "9116c8f9-cffd-46d4-fe6a-ce755cbcaa45",
        "colab": {
          "base_uri": "https://localhost:8080/",
          "height": 35
        }
      },
      "source": [
        "np.mean(dist)\n",
        "# sum(dist)/len(dist) "
      ],
      "execution_count": null,
      "outputs": [
        {
          "output_type": "execute_result",
          "data": {
            "text/plain": [
              "1356.6"
            ]
          },
          "metadata": {
            "tags": []
          },
          "execution_count": 28
        }
      ]
    },
    {
      "cell_type": "markdown",
      "metadata": {
        "id": "8rzDkHVoSoh6"
      },
      "source": [
        "**Exercise 3.5** \n",
        "\n",
        "Visualize the values in the `dist` list as a _univariate strip plot_ or a _histogram_."
      ]
    },
    {
      "cell_type": "code",
      "metadata": {
        "id": "NTxauhiySwYh",
        "outputId": "31b49b3c-016a-4563-a9d8-8aa924eae236",
        "colab": {
          "base_uri": "https://localhost:8080/",
          "height": 283
        }
      },
      "source": [
        "# First import seaborn to get nice plotting functions\n",
        "# use the alias sns\n",
        "import seaborn as sns\n",
        "sns.histplot(dist)"
      ],
      "execution_count": null,
      "outputs": [
        {
          "output_type": "execute_result",
          "data": {
            "text/plain": [
              "<matplotlib.axes._subplots.AxesSubplot at 0x7f7b62fa0470>"
            ]
          },
          "metadata": {
            "tags": []
          },
          "execution_count": 29
        },
        {
          "output_type": "display_data",
          "data": {
            "image/png": "[encoded data removed]",
            "text/plain": [
              "<Figure size 432x288 with 1 Axes>"
            ]
          },
          "metadata": {
            "tags": [],
            "needs_background": "light"
          }
        }
      ]
    },
    {
      "cell_type": "code",
      "metadata": {
        "id": "tV7BGcjKXKaL",
        "outputId": "ab819c25-1ca2-472a-8e57-d9c4e85f6914",
        "colab": {
          "base_uri": "https://localhost:8080/",
          "height": 339
        }
      },
      "source": [
        "sns.stripplot(dist)"
      ],
      "execution_count": null,
      "outputs": [
        {
          "output_type": "stream",
          "text": [
            "/usr/local/lib/python3.6/dist-packages/seaborn/_decorators.py:43: FutureWarning: Pass the following variable as a keyword arg: x. From version 0.12, the only valid positional argument will be `data`, and passing other arguments without an explicit keyword will result in an error or misinterpretation.\n",
            "  FutureWarning\n"
          ],
          "name": "stderr"
        },
        {
          "output_type": "execute_result",
          "data": {
            "text/plain": [
              "<matplotlib.axes._subplots.AxesSubplot at 0x7f7b6240fba8>"
            ]
          },
          "metadata": {
            "tags": []
          },
          "execution_count": 30
        },
        {
          "output_type": "display_data",
          "data": {
            "image/png": "[encoded data removed]",
            "text/plain": [
              "<Figure size 432x288 with 1 Axes>"
            ]
          },
          "metadata": {
            "tags": [],
            "needs_background": "light"
          }
        }
      ]
    },
    {
      "cell_type": "markdown",
      "metadata": {
        "id": "Tn4JQd57X7IO"
      },
      "source": [
        "### Making functions"
      ]
    },
    {
      "cell_type": "markdown",
      "metadata": {
        "id": "DQhPgyPoX94P"
      },
      "source": [
        "Use the `def` keyword to _define_ a new function `addNumbs` whidh will take two arguments `x` and `y` and uses the `return` keyword to give back the result. Add a comment using `\"\"\"` notation."
      ]
    },
    {
      "cell_type": "code",
      "metadata": {
        "id": "31i9A9f4X8rt"
      },
      "source": [
        "def addNumbs(x, y):\n",
        "    \"\"\"Add two numbers together\"\"\"\n",
        "    z = x + y\n",
        "    return z"
      ],
      "execution_count": null,
      "outputs": []
    },
    {
      "cell_type": "code",
      "metadata": {
        "id": "urrp5B4wYLII",
        "outputId": "f1fcacdc-4a87-408c-fd0e-207b17aea63c",
        "colab": {
          "base_uri": "https://localhost:8080/",
          "height": 35
        }
      },
      "source": [
        "addNumbs(5, 6)"
      ],
      "execution_count": null,
      "outputs": [
        {
          "output_type": "execute_result",
          "data": {
            "text/plain": [
              "11"
            ]
          },
          "metadata": {
            "tags": []
          },
          "execution_count": 32
        }
      ]
    },
    {
      "cell_type": "markdown",
      "metadata": {
        "id": "56CH2b14Ylhr"
      },
      "source": [
        "**Exercise 3.6** \n",
        "Create a function, `confInt` that** takes a list **and returns the lower 95%CI limit"
      ]
    },
    {
      "cell_type": "code",
      "metadata": {
        "id": "nZhYmXYNYtUH"
      },
      "source": [
        "def confInt(x):\n",
        "    \"\"\"Calculate the 95%CI\"\"\"\n",
        "    m = np.mean(x)\n",
        "    std = np.std(x)\n",
        "    n = len(x)\n",
        "    CiH = m + 1.96 * std / math.sqrt(n)\n",
        "    CiL = m - 1.96 * std / math.sqrt(n)\n",
        "    return CiL"
      ],
      "execution_count": null,
      "outputs": []
    },
    {
      "cell_type": "code",
      "metadata": {
        "id": "Jz8eaSvfZ3uC",
        "outputId": "39a099b9-a86b-475b-a5d0-9e6bba69dc42",
        "colab": {
          "base_uri": "https://localhost:8080/",
          "height": 35
        }
      },
      "source": [
        "confInt(heights)"
      ],
      "execution_count": null,
      "outputs": [
        {
          "output_type": "execute_result",
          "data": {
            "text/plain": [
              "169.78623079519832"
            ]
          },
          "metadata": {
            "tags": []
          },
          "execution_count": 34
        }
      ]
    },
    {
      "cell_type": "markdown",
      "metadata": {
        "id": "HSBqWpt8aj-M"
      },
      "source": [
        "Outputting more than one value as a **tuple**"
      ]
    },
    {
      "cell_type": "code",
      "metadata": {
        "id": "shNwUt0IajJZ"
      },
      "source": [
        "def mathFun(x, y):\n",
        "    \"\"\"Add and subtract two numbers together\"\"\"\n",
        "    return x + y, x - y"
      ],
      "execution_count": null,
      "outputs": []
    },
    {
      "cell_type": "code",
      "metadata": {
        "id": "9SBH8ZEDbSXy",
        "outputId": "7fbccc26-b12c-40d1-969c-e02af75e4ac1",
        "colab": {
          "base_uri": "https://localhost:8080/",
          "height": 35
        }
      },
      "source": [
        "my_out = mathFun(4, 6)\n",
        "type(my_out)"
      ],
      "execution_count": null,
      "outputs": [
        {
          "output_type": "execute_result",
          "data": {
            "text/plain": [
              "tuple"
            ]
          },
          "metadata": {
            "tags": []
          },
          "execution_count": 36
        }
      ]
    },
    {
      "cell_type": "markdown",
      "metadata": {
        "id": "Cy9JDefFbmE7"
      },
      "source": [
        "**Exercise 3.7** \n",
        "Create a tuple output from `confInt` that returns the lower & upper 95%CI limit"
      ]
    },
    {
      "cell_type": "code",
      "metadata": {
        "id": "bo6vFYjLbsxb"
      },
      "source": [
        "def confInt(x):\n",
        "    \"\"\"Calculate the 95%CI\"\"\"\n",
        "    m = np.mean(x)\n",
        "    std = np.std(x)\n",
        "    n = len(x)\n",
        "    CiH = m + 1.96 * std / math.sqrt(n)\n",
        "    CiL = m - 1.96 * std / math.sqrt(n)\n",
        "    return CiL, CiH"
      ],
      "execution_count": null,
      "outputs": []
    },
    {
      "cell_type": "code",
      "metadata": {
        "id": "bPZ5nRBRb-G-",
        "outputId": "e95314a6-137d-4a2d-e18d-df6e3343fcbd",
        "colab": {
          "base_uri": "https://localhost:8080/",
          "height": 35
        }
      },
      "source": [
        "confInt(heights)"
      ],
      "execution_count": null,
      "outputs": [
        {
          "output_type": "execute_result",
          "data": {
            "text/plain": [
              "(169.78623079519832, 185.88043587146836)"
            ]
          },
          "metadata": {
            "tags": []
          },
          "execution_count": 38
        }
      ]
    },
    {
      "cell_type": "markdown",
      "metadata": {
        "id": "xs3D9gM5apnL"
      },
      "source": [
        "**lamba** functions: Making _anonymous_ functions.\n",
        "\n",
        "A simple syntax for making short and simple functions:"
      ]
    },
    {
      "cell_type": "code",
      "metadata": {
        "id": "5rSU46W8dg1J",
        "outputId": "a8dd8b2c-e4fd-47b2-c48b-6771b70b51d4",
        "colab": {
          "base_uri": "https://localhost:8080/",
          "height": 35
        }
      },
      "source": [
        "raise_to_power =  lambda x, y: x ** y\n",
        "raise_to_power(2, 3)"
      ],
      "execution_count": null,
      "outputs": [
        {
          "output_type": "execute_result",
          "data": {
            "text/plain": [
              "8"
            ]
          },
          "metadata": {
            "tags": []
          },
          "execution_count": 39
        }
      ]
    },
    {
      "cell_type": "markdown",
      "metadata": {
        "id": "zhEKAl4IdhTZ"
      },
      "source": [
        "More typically, a way to make unnamed _anonymous_ functions:"
      ]
    },
    {
      "cell_type": "code",
      "metadata": {
        "id": "6bkrUt-hcjZg",
        "outputId": "3f237f68-d444-41d6-da49-be7710394b33",
        "colab": {
          "base_uri": "https://localhost:8080/",
          "height": 35
        }
      },
      "source": [
        "nums = [3, 5, 6, 8, 3]\n",
        "nums # a list of 5 elements"
      ],
      "execution_count": null,
      "outputs": [
        {
          "output_type": "execute_result",
          "data": {
            "text/plain": [
              "[3, 5, 6, 8, 3]"
            ]
          },
          "metadata": {
            "tags": []
          },
          "execution_count": 40
        }
      ]
    },
    {
      "cell_type": "code",
      "metadata": {
        "id": "ly1FG6HlczIA"
      },
      "source": [
        "# nums ** 2 # this gives a typeError :/ :/ we would actually expect vector recycling"
      ],
      "execution_count": null,
      "outputs": []
    },
    {
      "cell_type": "code",
      "metadata": {
        "id": "avThDQBHdGTb"
      },
      "source": [
        "square_all = map(lambda num: num ** 2, nums) # this applies a lamba functions to each element and outputs a map objects"
      ],
      "execution_count": null,
      "outputs": []
    },
    {
      "cell_type": "code",
      "metadata": {
        "id": "bn8LqBe-dOo8",
        "outputId": "561347fe-e465-4425-fd98-5562af7e95e8",
        "colab": {
          "base_uri": "https://localhost:8080/",
          "height": 35
        }
      },
      "source": [
        "list(square_all) # this converts to a list object"
      ],
      "execution_count": null,
      "outputs": [
        {
          "output_type": "execute_result",
          "data": {
            "text/plain": [
              "[9, 25, 36, 64, 9]"
            ]
          },
          "metadata": {
            "tags": []
          },
          "execution_count": 43
        }
      ]
    },
    {
      "cell_type": "markdown",
      "metadata": {
        "id": "weFDXEvMmvuk"
      },
      "source": [
        "### Methods\n",
        "\n",
        "Methods are special functions that belong to specific objects.\n"
      ]
    },
    {
      "cell_type": "code",
      "metadata": {
        "id": "Y4YOzuHcmxqT",
        "outputId": "f7e62006-ed37-45c9-cf2c-55e4c09176e8",
        "colab": {
          "base_uri": "https://localhost:8080/",
          "height": 35
        }
      },
      "source": [
        "l = [1, \"2\", True]\n",
        "l"
      ],
      "execution_count": null,
      "outputs": [
        {
          "output_type": "execute_result",
          "data": {
            "text/plain": [
              "[1, '2', True]"
            ]
          },
          "metadata": {
            "tags": []
          },
          "execution_count": 44
        }
      ]
    },
    {
      "cell_type": "code",
      "metadata": {
        "id": "kJ_ErGklm2PN"
      },
      "source": [
        "# l can be directly modified\n",
        "l.append(\"append value\")\n",
        "\n",
        "# Not:\n",
        "# l = append(l, \"appended value\")\n",
        "# This would be similar to c(l, \"value\") in R"
      ],
      "execution_count": null,
      "outputs": []
    },
    {
      "cell_type": "code",
      "metadata": {
        "id": "1lKCkXUUnTav",
        "outputId": "02330b95-09bb-4178-960a-c401579949d9",
        "colab": {
          "base_uri": "https://localhost:8080/",
          "height": 35
        }
      },
      "source": [
        "l"
      ],
      "execution_count": null,
      "outputs": [
        {
          "output_type": "execute_result",
          "data": {
            "text/plain": [
              "[1, '2', True, 'append value']"
            ]
          },
          "metadata": {
            "tags": []
          },
          "execution_count": 46
        }
      ]
    },
    {
      "cell_type": "code",
      "metadata": {
        "id": "cxy7KValojir",
        "outputId": "7e66f735-30fe-4901-df30-de2973943a4d",
        "colab": {
          "base_uri": "https://localhost:8080/",
          "height": 35
        }
      },
      "source": [
        "# lower() converts but does not update this scalar\n",
        "name = \"Berlin\"\n",
        "name.lower()"
      ],
      "execution_count": null,
      "outputs": [
        {
          "output_type": "execute_result",
          "data": {
            "application/vnd.google.colaboratory.intrinsic+json": {
              "type": "string"
            },
            "text/plain": [
              "'berlin'"
            ]
          },
          "metadata": {
            "tags": []
          },
          "execution_count": 47
        }
      ]
    },
    {
      "cell_type": "code",
      "metadata": {
        "id": "XqIuhIftonjf",
        "outputId": "af494fc0-8c46-4dbd-8637-75f9a78e17ed",
        "colab": {
          "base_uri": "https://localhost:8080/",
          "height": 35
        }
      },
      "source": [
        "name.upper()"
      ],
      "execution_count": null,
      "outputs": [
        {
          "output_type": "execute_result",
          "data": {
            "application/vnd.google.colaboratory.intrinsic+json": {
              "type": "string"
            },
            "text/plain": [
              "'BERLIN'"
            ]
          },
          "metadata": {
            "tags": []
          },
          "execution_count": 48
        }
      ]
    },
    {
      "cell_type": "code",
      "metadata": {
        "id": "HLqiyfKmoxbP",
        "outputId": "c9a809b0-611e-4cf3-8c88-e321c6de502e",
        "colab": {
          "base_uri": "https://localhost:8080/",
          "height": 35
        }
      },
      "source": [
        "cities"
      ],
      "execution_count": null,
      "outputs": [
        {
          "output_type": "execute_result",
          "data": {
            "text/plain": [
              "['Munich', 'Paris', 'Amsterdam', 'Madrid', 'Istanbul']"
            ]
          },
          "metadata": {
            "tags": []
          },
          "execution_count": 49
        }
      ]
    },
    {
      "cell_type": "code",
      "metadata": {
        "id": "x02n98Fjo1F6"
      },
      "source": [
        "# lower() is not a method for a list object\n",
        "# cities.lower()"
      ],
      "execution_count": null,
      "outputs": []
    },
    {
      "cell_type": "markdown",
      "metadata": {
        "id": "M5A3XG-ypjsa"
      },
      "source": [
        "Methods for numerical list objects\n"
      ]
    },
    {
      "cell_type": "code",
      "metadata": {
        "id": "do8v1J5SptqS",
        "outputId": "0c6086c6-f927-442b-a6d2-b712d59c1d09",
        "colab": {
          "base_uri": "https://localhost:8080/",
          "height": 845
        }
      },
      "source": [
        "# Available methods for this object:\n",
        "dir(dist)"
      ],
      "execution_count": null,
      "outputs": [
        {
          "output_type": "execute_result",
          "data": {
            "text/plain": [
              "['__add__',\n",
              " '__class__',\n",
              " '__contains__',\n",
              " '__delattr__',\n",
              " '__delitem__',\n",
              " '__dir__',\n",
              " '__doc__',\n",
              " '__eq__',\n",
              " '__format__',\n",
              " '__ge__',\n",
              " '__getattribute__',\n",
              " '__getitem__',\n",
              " '__gt__',\n",
              " '__hash__',\n",
              " '__iadd__',\n",
              " '__imul__',\n",
              " '__init__',\n",
              " '__init_subclass__',\n",
              " '__iter__',\n",
              " '__le__',\n",
              " '__len__',\n",
              " '__lt__',\n",
              " '__mul__',\n",
              " '__ne__',\n",
              " '__new__',\n",
              " '__reduce__',\n",
              " '__reduce_ex__',\n",
              " '__repr__',\n",
              " '__reversed__',\n",
              " '__rmul__',\n",
              " '__setattr__',\n",
              " '__setitem__',\n",
              " '__sizeof__',\n",
              " '__str__',\n",
              " '__subclasshook__',\n",
              " 'append',\n",
              " 'clear',\n",
              " 'copy',\n",
              " 'count',\n",
              " 'extend',\n",
              " 'index',\n",
              " 'insert',\n",
              " 'pop',\n",
              " 'remove',\n",
              " 'reverse',\n",
              " 'sort']"
            ]
          },
          "metadata": {
            "tags": []
          },
          "execution_count": 51
        }
      ]
    },
    {
      "cell_type": "markdown",
      "metadata": {
        "id": "hu285cMBp3B7"
      },
      "source": [
        "Examples:\n",
        "\n",
        "- `.append()`\n",
        " "
      ]
    },
    {
      "cell_type": "code",
      "metadata": {
        "id": "EXzSkQxPqOIU"
      },
      "source": [
        "# Append a new value to the end of the list:\n",
        "dist.append(500)"
      ],
      "execution_count": null,
      "outputs": []
    },
    {
      "cell_type": "code",
      "metadata": {
        "id": "giMdU0G-qS2P",
        "outputId": "03986592-bd4e-4991-d0cf-231da9456509",
        "colab": {
          "base_uri": "https://localhost:8080/",
          "height": 35
        }
      },
      "source": [
        "dist"
      ],
      "execution_count": null,
      "outputs": [
        {
          "output_type": "execute_result",
          "data": {
            "text/plain": [
              "[584, 1054, 653, 2301, 2191, 500]"
            ]
          },
          "metadata": {
            "tags": []
          },
          "execution_count": 53
        }
      ]
    },
    {
      "cell_type": "markdown",
      "metadata": {
        "id": "6mM4vWGep-S3"
      },
      "source": [
        "- `.clear`\n",
        " "
      ]
    },
    {
      "cell_type": "code",
      "metadata": {
        "id": "70p4q_T-qYAL"
      },
      "source": [
        "# Remove all items\n",
        "dist.clear()"
      ],
      "execution_count": null,
      "outputs": []
    },
    {
      "cell_type": "code",
      "metadata": {
        "id": "NVlS_CC3qcoU",
        "outputId": "1244c7d9-940b-4614-d472-b8abb1f02589",
        "colab": {
          "base_uri": "https://localhost:8080/",
          "height": 35
        }
      },
      "source": [
        "dist"
      ],
      "execution_count": null,
      "outputs": [
        {
          "output_type": "execute_result",
          "data": {
            "text/plain": [
              "[]"
            ]
          },
          "metadata": {
            "tags": []
          },
          "execution_count": 55
        }
      ]
    },
    {
      "cell_type": "code",
      "metadata": {
        "id": "4tJyauusquCI",
        "outputId": "785af0e5-756b-4f2f-fc2b-826e1ef91fae",
        "colab": {
          "base_uri": "https://localhost:8080/",
          "height": 35
        }
      },
      "source": [
        "# Re-establish dist\n",
        "dist = [584, 1054, 653, 2301, 2191, 500]\n",
        "dist"
      ],
      "execution_count": null,
      "outputs": [
        {
          "output_type": "execute_result",
          "data": {
            "text/plain": [
              "[584, 1054, 653, 2301, 2191, 500]"
            ]
          },
          "metadata": {
            "tags": []
          },
          "execution_count": 56
        }
      ]
    },
    {
      "cell_type": "markdown",
      "metadata": {
        "id": "WsUSoyglp_N6"
      },
      "source": [
        " - `copy`\n",
        " "
      ]
    },
    {
      "cell_type": "code",
      "metadata": {
        "id": "RzTFiooJqfup"
      },
      "source": [
        "# Makes a shallow copy (we'll see this later on)\n",
        "# dist.copy()"
      ],
      "execution_count": null,
      "outputs": []
    },
    {
      "cell_type": "markdown",
      "metadata": {
        "id": "4pOIaBk8qAKv"
      },
      "source": [
        "- `count`\n",
        " "
      ]
    },
    {
      "cell_type": "code",
      "metadata": {
        "id": "3dsWrbrNqgqn",
        "outputId": "9cf4ee67-4626-46cf-cfa2-175652caa2f0",
        "colab": {
          "base_uri": "https://localhost:8080/",
          "height": 35
        }
      },
      "source": [
        "dist.count(653)"
      ],
      "execution_count": null,
      "outputs": [
        {
          "output_type": "execute_result",
          "data": {
            "text/plain": [
              "1"
            ]
          },
          "metadata": {
            "tags": []
          },
          "execution_count": 58
        }
      ]
    },
    {
      "cell_type": "markdown",
      "metadata": {
        "id": "gIPQLhtpqA_p"
      },
      "source": [
        "- `extend`\n",
        " "
      ]
    },
    {
      "cell_type": "code",
      "metadata": {
        "id": "AjbjqonJqhQ6"
      },
      "source": [
        "# Need an iterable object here:\n",
        "# dist.extend()"
      ],
      "execution_count": null,
      "outputs": []
    },
    {
      "cell_type": "markdown",
      "metadata": {
        "id": "iUa0IHNYqB2J"
      },
      "source": [
        "- `index`\n",
        " "
      ]
    },
    {
      "cell_type": "code",
      "metadata": {
        "id": "xvLWS078qh9G",
        "outputId": "f0bc0a39-07b0-4b95-bcf8-ac280c04eeae",
        "colab": {
          "base_uri": "https://localhost:8080/",
          "height": 35
        }
      },
      "source": [
        "# First index position of a value\n",
        "dist.index(1054) #1, since python indexes from 0"
      ],
      "execution_count": null,
      "outputs": [
        {
          "output_type": "execute_result",
          "data": {
            "text/plain": [
              "1"
            ]
          },
          "metadata": {
            "tags": []
          },
          "execution_count": 60
        }
      ]
    },
    {
      "cell_type": "markdown",
      "metadata": {
        "id": "bgwfEinnqCv-"
      },
      "source": [
        "- `insert`\n",
        " "
      ]
    },
    {
      "cell_type": "code",
      "metadata": {
        "id": "LWiyVyoNql8G",
        "outputId": "69f082cf-fcac-4ee1-d6cb-895be7e4d72a",
        "colab": {
          "base_uri": "https://localhost:8080/",
          "height": 35
        }
      },
      "source": [
        "dist.insert(1, 999)\n",
        "dist"
      ],
      "execution_count": null,
      "outputs": [
        {
          "output_type": "execute_result",
          "data": {
            "text/plain": [
              "[584, 999, 1054, 653, 2301, 2191, 500]"
            ]
          },
          "metadata": {
            "tags": []
          },
          "execution_count": 61
        }
      ]
    },
    {
      "cell_type": "markdown",
      "metadata": {
        "id": "jTI8SyFRqDki"
      },
      "source": [
        "- `pop`\n",
        " "
      ]
    },
    {
      "cell_type": "code",
      "metadata": {
        "id": "jSp30J1YqlcS",
        "outputId": "77b993a8-3a93-457e-beee-7624ccc41959",
        "colab": {
          "base_uri": "https://localhost:8080/",
          "height": 35
        }
      },
      "source": [
        "dist.pop(4)"
      ],
      "execution_count": null,
      "outputs": [
        {
          "output_type": "execute_result",
          "data": {
            "text/plain": [
              "2301"
            ]
          },
          "metadata": {
            "tags": []
          },
          "execution_count": 62
        }
      ]
    },
    {
      "cell_type": "code",
      "metadata": {
        "id": "Y7bPTMQPsiFZ",
        "outputId": "c5e192a2-4202-4658-b159-30a0609ae30b",
        "colab": {
          "base_uri": "https://localhost:8080/",
          "height": 35
        }
      },
      "source": [
        "dist"
      ],
      "execution_count": null,
      "outputs": [
        {
          "output_type": "execute_result",
          "data": {
            "text/plain": [
              "[584, 999, 1054, 653, 2191, 500]"
            ]
          },
          "metadata": {
            "tags": []
          },
          "execution_count": 63
        }
      ]
    },
    {
      "cell_type": "markdown",
      "metadata": {
        "id": "i2zxM8yHqEeM"
      },
      "source": [
        "- `remove`\n",
        " "
      ]
    },
    {
      "cell_type": "code",
      "metadata": {
        "id": "7sQHXEApqk-O"
      },
      "source": [
        "dist.remove(999)"
      ],
      "execution_count": null,
      "outputs": []
    },
    {
      "cell_type": "code",
      "metadata": {
        "id": "jDuXC_UFspmv",
        "outputId": "80d3406f-3071-4ac1-e83a-c8b5bde2a8ff",
        "colab": {
          "base_uri": "https://localhost:8080/",
          "height": 35
        }
      },
      "source": [
        "dist"
      ],
      "execution_count": null,
      "outputs": [
        {
          "output_type": "execute_result",
          "data": {
            "text/plain": [
              "[584, 1054, 653, 2191, 500]"
            ]
          },
          "metadata": {
            "tags": []
          },
          "execution_count": 65
        }
      ]
    },
    {
      "cell_type": "markdown",
      "metadata": {
        "id": "7Fkn8BJhqFPU"
      },
      "source": [
        "- `reverse`\n",
        " "
      ]
    },
    {
      "cell_type": "code",
      "metadata": {
        "id": "ohNFkEaIqjUa",
        "outputId": "12a65d31-cbd8-4718-e30c-9bd522f59dda",
        "colab": {
          "base_uri": "https://localhost:8080/",
          "height": 35
        }
      },
      "source": [
        "dist.reverse()\n",
        "dist"
      ],
      "execution_count": null,
      "outputs": [
        {
          "output_type": "execute_result",
          "data": {
            "text/plain": [
              "[500, 2191, 653, 1054, 584]"
            ]
          },
          "metadata": {
            "tags": []
          },
          "execution_count": 66
        }
      ]
    },
    {
      "cell_type": "markdown",
      "metadata": {
        "id": "wMAYWoe1qF7D"
      },
      "source": [
        "- `sort`"
      ]
    },
    {
      "cell_type": "code",
      "metadata": {
        "id": "aetIC5Jeqixc",
        "outputId": "6330e89c-56f4-4cb9-b733-3513c3a011c8",
        "colab": {
          "base_uri": "https://localhost:8080/",
          "height": 35
        }
      },
      "source": [
        "dist.sort()\n",
        "dist"
      ],
      "execution_count": null,
      "outputs": [
        {
          "output_type": "execute_result",
          "data": {
            "text/plain": [
              "[500, 584, 653, 1054, 2191]"
            ]
          },
          "metadata": {
            "tags": []
          },
          "execution_count": 67
        }
      ]
    },
    {
      "cell_type": "markdown",
      "metadata": {
        "id": "SdbzGaPUtnrz"
      },
      "source": [
        "#### A short aside on Coercion"
      ]
    },
    {
      "cell_type": "code",
      "metadata": {
        "id": "nIrNAAFwtyO6",
        "outputId": "4577c02b-3727-4bd6-f4c3-a04efe47f94e",
        "colab": {
          "base_uri": "https://localhost:8080/",
          "height": 35
        }
      },
      "source": [
        "type(numb)"
      ],
      "execution_count": null,
      "outputs": [
        {
          "output_type": "execute_result",
          "data": {
            "text/plain": [
              "int"
            ]
          },
          "metadata": {
            "tags": []
          },
          "execution_count": 68
        }
      ]
    },
    {
      "cell_type": "code",
      "metadata": {
        "id": "9VtmIX7Ot1MS",
        "outputId": "cbf4980f-9435-4d3a-a3ff-290f49e15286",
        "colab": {
          "base_uri": "https://localhost:8080/",
          "height": 35
        }
      },
      "source": [
        "str(numb)"
      ],
      "execution_count": null,
      "outputs": [
        {
          "output_type": "execute_result",
          "data": {
            "application/vnd.google.colaboratory.intrinsic+json": {
              "type": "string"
            },
            "text/plain": [
              "'8'"
            ]
          },
          "metadata": {
            "tags": []
          },
          "execution_count": 69
        }
      ]
    },
    {
      "cell_type": "code",
      "metadata": {
        "id": "mb2FyK4Pt3rx",
        "outputId": "222eea4f-f694-4c1c-9363-2da32ed91a11",
        "colab": {
          "base_uri": "https://localhost:8080/",
          "height": 35
        }
      },
      "source": [
        "# Still an integer\n",
        "numb"
      ],
      "execution_count": null,
      "outputs": [
        {
          "output_type": "execute_result",
          "data": {
            "text/plain": [
              "8"
            ]
          },
          "metadata": {
            "tags": []
          },
          "execution_count": 70
        }
      ]
    },
    {
      "cell_type": "code",
      "metadata": {
        "id": "yOatGRmxt8di",
        "outputId": "da3080ba-2cc2-4b3d-89cc-056ca7bc2412",
        "colab": {
          "base_uri": "https://localhost:8080/",
          "height": 35
        }
      },
      "source": [
        "letter = '8'\n",
        "type(letter)\n"
      ],
      "execution_count": null,
      "outputs": [
        {
          "output_type": "execute_result",
          "data": {
            "text/plain": [
              "str"
            ]
          },
          "metadata": {
            "tags": []
          },
          "execution_count": 71
        }
      ]
    },
    {
      "cell_type": "code",
      "metadata": {
        "id": "vYFeOYWruDCl",
        "outputId": "00533cdf-7f1f-4e79-8441-ff7de1cbc2a8",
        "colab": {
          "base_uri": "https://localhost:8080/",
          "height": 35
        }
      },
      "source": [
        "int(letter)"
      ],
      "execution_count": null,
      "outputs": [
        {
          "output_type": "execute_result",
          "data": {
            "text/plain": [
              "8"
            ]
          },
          "metadata": {
            "tags": []
          },
          "execution_count": 72
        }
      ]
    },
    {
      "cell_type": "markdown",
      "metadata": {
        "id": "jURqtJxyuJjJ"
      },
      "source": [
        "### Attribues"
      ]
    },
    {
      "cell_type": "markdown",
      "metadata": {
        "id": "kT3YMEKburSs"
      },
      "source": [
        "The `__` notation is pronounced _dunder_ (double underscore)"
      ]
    },
    {
      "cell_type": "code",
      "metadata": {
        "id": "mAW0Tr06uhA3",
        "outputId": "8643ee37-b739-421b-ed45-24a78025ea16",
        "colab": {
          "base_uri": "https://localhost:8080/",
          "height": 35
        }
      },
      "source": [
        "\n",
        "l.__len__"
      ],
      "execution_count": null,
      "outputs": [
        {
          "output_type": "execute_result",
          "data": {
            "text/plain": [
              "<method-wrapper '__len__' of list object at 0x7f7b61fb8c48>"
            ]
          },
          "metadata": {
            "tags": []
          },
          "execution_count": 73
        }
      ]
    },
    {
      "cell_type": "code",
      "metadata": {
        "id": "6KiD00gUuk8G",
        "outputId": "37fd82aa-6ed6-42e8-9a2e-4cb331f00af1",
        "colab": {
          "base_uri": "https://localhost:8080/",
          "height": 35
        }
      },
      "source": [
        "# This accesses the attribute directly\n",
        "len(l)"
      ],
      "execution_count": null,
      "outputs": [
        {
          "output_type": "execute_result",
          "data": {
            "text/plain": [
              "4"
            ]
          },
          "metadata": {
            "tags": []
          },
          "execution_count": 74
        }
      ]
    },
    {
      "cell_type": "markdown",
      "metadata": {
        "id": "hC2c4Guvu1NC"
      },
      "source": [
        "Recall our function from earlier, with `\"\"\"`"
      ]
    },
    {
      "cell_type": "code",
      "metadata": {
        "id": "VbuO4N_ru4qJ",
        "outputId": "dcc75c87-0ae3-4cd3-e883-6793651a351f",
        "colab": {
          "base_uri": "https://localhost:8080/",
          "height": 35
        }
      },
      "source": [
        "addNumbs.__doc__"
      ],
      "execution_count": null,
      "outputs": [
        {
          "output_type": "execute_result",
          "data": {
            "application/vnd.google.colaboratory.intrinsic+json": {
              "type": "string"
            },
            "text/plain": [
              "'Add two numbers together'"
            ]
          },
          "metadata": {
            "tags": []
          },
          "execution_count": 75
        }
      ]
    },
    {
      "cell_type": "markdown",
      "metadata": {
        "id": "Z-3cTFrWvOcc"
      },
      "source": [
        "### Dictionaries\n",
        "\n",
        "- `[]` produce lists\n",
        "- `()` produce tuples (immutable)\n",
        "- `{}` produce dictionaries `key:value`\n",
        "- `dict(zip([],[]))` zip two lists to make a dictionary"
      ]
    },
    {
      "cell_type": "code",
      "metadata": {
        "id": "7V9TLxw5vZtw",
        "outputId": "85649cec-5628-4ebf-a960-025a35991e8d",
        "colab": {
          "base_uri": "https://localhost:8080/",
          "height": 35
        }
      },
      "source": [
        "d = {'int_value':3, \n",
        "     'bool_value':False, \n",
        "     'str_value':'hello'}\n",
        "\n",
        "d"
      ],
      "execution_count": null,
      "outputs": [
        {
          "output_type": "execute_result",
          "data": {
            "text/plain": [
              "{'bool_value': False, 'int_value': 3, 'str_value': 'hello'}"
            ]
          },
          "metadata": {
            "tags": []
          },
          "execution_count": 76
        }
      ]
    },
    {
      "cell_type": "code",
      "metadata": {
        "id": "6t6WUF0evqWv",
        "outputId": "2a55cb03-6ea5-4ed2-d977-9e6a84769046",
        "colab": {
          "base_uri": "https://localhost:8080/",
          "height": 35
        }
      },
      "source": [
        "# basic indexing using a key\n",
        "d['str_value'] #return the value at this key position"
      ],
      "execution_count": null,
      "outputs": [
        {
          "output_type": "execute_result",
          "data": {
            "application/vnd.google.colaboratory.intrinsic+json": {
              "type": "string"
            },
            "text/plain": [
              "'hello'"
            ]
          },
          "metadata": {
            "tags": []
          },
          "execution_count": 77
        }
      ]
    },
    {
      "cell_type": "markdown",
      "metadata": {
        "id": "0a9OkHtrv17P"
      },
      "source": [
        "Adding more `values` using lists."
      ]
    },
    {
      "cell_type": "code",
      "metadata": {
        "id": "E8d25Ulov340",
        "outputId": "9a758ee5-5473-4be6-ec82-48e330ee9fd0",
        "colab": {
          "base_uri": "https://localhost:8080/",
          "height": 53
        }
      },
      "source": [
        "organizations = {'name': ['Volkswagen', 'Daimler', 'Allianz', 'Charite'],\n",
        "                 'structure': ['company', 'company', 'company', 'research']}\n",
        "\n",
        "organizations"
      ],
      "execution_count": null,
      "outputs": [
        {
          "output_type": "execute_result",
          "data": {
            "text/plain": [
              "{'name': ['Volkswagen', 'Daimler', 'Allianz', 'Charite'],\n",
              " 'structure': ['company', 'company', 'company', 'research']}"
            ]
          },
          "metadata": {
            "tags": []
          },
          "execution_count": 78
        }
      ]
    },
    {
      "cell_type": "code",
      "metadata": {
        "id": "bkOKkw7nwFFU",
        "outputId": "d3d108d7-1fae-428b-f436-0125e56e50e0",
        "colab": {
          "base_uri": "https://localhost:8080/",
          "height": 35
        }
      },
      "source": [
        "organizations['name']"
      ],
      "execution_count": null,
      "outputs": [
        {
          "output_type": "execute_result",
          "data": {
            "text/plain": [
              "['Volkswagen', 'Daimler', 'Allianz', 'Charite']"
            ]
          },
          "metadata": {
            "tags": []
          },
          "execution_count": 79
        }
      ]
    },
    {
      "cell_type": "markdown",
      "metadata": {
        "id": "t0IhWqpJwL55"
      },
      "source": [
        "Create a dictionary from two lists using zip()"
      ]
    },
    {
      "cell_type": "code",
      "metadata": {
        "id": "YfV76iGDwLK5",
        "outputId": "22669e4d-2402-4550-a359-6a283ff249f9",
        "colab": {
          "base_uri": "https://localhost:8080/",
          "height": 125
        }
      },
      "source": [
        "heights = [167, 188, 178, 194, 171, 169]\n",
        "persons = [\"Mary\", \"John\", \"Kevin\", \"Elena\", \"Doug\", \"Galin\"]\n",
        "\n",
        "heights_persons = dict(zip(persons, heights))\n",
        "heights_persons"
      ],
      "execution_count": null,
      "outputs": [
        {
          "output_type": "execute_result",
          "data": {
            "text/plain": [
              "{'Doug': 171,\n",
              " 'Elena': 194,\n",
              " 'Galin': 169,\n",
              " 'John': 188,\n",
              " 'Kevin': 178,\n",
              " 'Mary': 167}"
            ]
          },
          "metadata": {
            "tags": []
          },
          "execution_count": 80
        }
      ]
    },
    {
      "cell_type": "code",
      "metadata": {
        "id": "uVRx7oF-wkS_"
      },
      "source": [
        "# what if we remove one:\n",
        "heights = [167, 188, 178, 194, 171, 169]\n",
        "persons = [\"Mary\", \"Kevin\", \"Elena\", \"Doug\", \"Galin\"]"
      ],
      "execution_count": null,
      "outputs": []
    },
    {
      "cell_type": "code",
      "metadata": {
        "id": "SArhXnqNwq59",
        "outputId": "defe5e2e-ba90-4cf2-c2dc-b0752c3618a4",
        "colab": {
          "base_uri": "https://localhost:8080/",
          "height": 35
        }
      },
      "source": [
        "heights_persons_2 = dict(zip(persons, heights))\n",
        "heights_persons_2\n",
        "# last value is unmatched and exempted"
      ],
      "execution_count": null,
      "outputs": [
        {
          "output_type": "execute_result",
          "data": {
            "text/plain": [
              "{'Doug': 194, 'Elena': 178, 'Galin': 171, 'Kevin': 188, 'Mary': 167}"
            ]
          },
          "metadata": {
            "tags": []
          },
          "execution_count": 82
        }
      ]
    },
    {
      "cell_type": "code",
      "metadata": {
        "id": "T_fxu-yCxGvt",
        "outputId": "cf63af51-d676-4282-9147-06a541667c75",
        "colab": {
          "base_uri": "https://localhost:8080/",
          "height": 35
        }
      },
      "source": [
        "heights_persons.keys()"
      ],
      "execution_count": null,
      "outputs": [
        {
          "output_type": "execute_result",
          "data": {
            "text/plain": [
              "dict_keys(['Mary', 'John', 'Kevin', 'Elena', 'Doug', 'Galin'])"
            ]
          },
          "metadata": {
            "tags": []
          },
          "execution_count": 83
        }
      ]
    },
    {
      "cell_type": "code",
      "metadata": {
        "id": "wSZxxvhIxNzp",
        "outputId": "326bf776-d501-4548-e88f-8c90afebd00a",
        "colab": {
          "base_uri": "https://localhost:8080/",
          "height": 35
        }
      },
      "source": [
        "heights_persons.values()"
      ],
      "execution_count": null,
      "outputs": [
        {
          "output_type": "execute_result",
          "data": {
            "text/plain": [
              "dict_values([167, 188, 178, 194, 171, 169])"
            ]
          },
          "metadata": {
            "tags": []
          },
          "execution_count": 84
        }
      ]
    },
    {
      "cell_type": "markdown",
      "metadata": {
        "id": "HYEP87mOxlYr"
      },
      "source": [
        "**Exercise 3.16**"
      ]
    },
    {
      "cell_type": "code",
      "metadata": {
        "id": "G71vOiPRxkdU",
        "outputId": "adf92d7f-94ed-4f4c-c926-da397795bbfd",
        "colab": {
          "base_uri": "https://localhost:8080/",
          "height": 107
        }
      },
      "source": [
        "cities = ['Munich', 'Paris', 'Amsterdam', 'Madrid', 'Istanbul']\n",
        "dist = [584, 1054, 653, 2301, 2191]\n",
        "\n",
        "distDict = dict(zip(cities, dist))\n",
        "distDict"
      ],
      "execution_count": null,
      "outputs": [
        {
          "output_type": "execute_result",
          "data": {
            "text/plain": [
              "{'Amsterdam': 653,\n",
              " 'Istanbul': 2191,\n",
              " 'Madrid': 2301,\n",
              " 'Munich': 584,\n",
              " 'Paris': 1054}"
            ]
          },
          "metadata": {
            "tags": []
          },
          "execution_count": 85
        }
      ]
    },
    {
      "cell_type": "markdown",
      "metadata": {
        "id": "jW3MuQlozRQU"
      },
      "source": [
        "## NumPy (Data Containers III)"
      ]
    },
    {
      "cell_type": "markdown",
      "metadata": {
        "id": "FJGLe8_W0Pxq"
      },
      "source": [
        "- np.array([]) produces an ndarray\n",
        "\n",
        "**bold text**`ndarray` where nd = n-dimensional array."
      ]
    },
    {
      "cell_type": "code",
      "metadata": {
        "id": "8LLJhgYyzXh5",
        "outputId": "c2849fc6-e085-4bf8-e886-283a2962a8c6",
        "colab": {
          "base_uri": "https://localhost:8080/",
          "height": 35
        }
      },
      "source": [
        "# already imported nympy as np\n",
        "# Basic list\n",
        "xx = [3, 8, 9, 23]\n",
        "xx\n"
      ],
      "execution_count": null,
      "outputs": [
        {
          "output_type": "execute_result",
          "data": {
            "text/plain": [
              "[3, 8, 9, 23]"
            ]
          },
          "metadata": {
            "tags": []
          },
          "execution_count": 86
        }
      ]
    },
    {
      "cell_type": "code",
      "metadata": {
        "id": "OLRa2AEM0qOH",
        "outputId": "a1623e0d-8984-4f4d-dd5c-6bd9fd95e1c8",
        "colab": {
          "base_uri": "https://localhost:8080/",
          "height": 35
        }
      },
      "source": [
        "xx = np.array([3, 8, 9, 23])\n",
        "xx"
      ],
      "execution_count": null,
      "outputs": [
        {
          "output_type": "execute_result",
          "data": {
            "text/plain": [
              "array([ 3,  8,  9, 23])"
            ]
          },
          "metadata": {
            "tags": []
          },
          "execution_count": 87
        }
      ]
    },
    {
      "cell_type": "code",
      "metadata": {
        "id": "-a0dSy_20xFv",
        "outputId": "42350d7f-b8ab-4b4d-d8e4-5dc410334368",
        "colab": {
          "base_uri": "https://localhost:8080/",
          "height": 71
        }
      },
      "source": [
        "# wide variety of items, i.e. a list of lists\n",
        "yy = np.array([[5,7,8,9,3], \n",
        "          [0,3,6,8,2],\n",
        "          range(5)])\n",
        "yy"
      ],
      "execution_count": null,
      "outputs": [
        {
          "output_type": "execute_result",
          "data": {
            "text/plain": [
              "array([[5, 7, 8, 9, 3],\n",
              "       [0, 3, 6, 8, 2],\n",
              "       [0, 1, 2, 3, 4]])"
            ]
          },
          "metadata": {
            "tags": []
          },
          "execution_count": 88
        }
      ]
    },
    {
      "cell_type": "code",
      "metadata": {
        "id": "4sTBmGYX1XN_"
      },
      "source": [
        "# Recall: a list and an integer\n",
        "\n",
        "my_list = [1, 6, 9, 36]\n",
        "\n",
        "# error\n",
        "# my_list + 100"
      ],
      "execution_count": null,
      "outputs": []
    },
    {
      "cell_type": "code",
      "metadata": {
        "id": "B8ZMyvKA1rj-",
        "outputId": "f3ba4839-6039-4f44-f723-932fa20bda63",
        "colab": {
          "base_uri": "https://localhost:8080/",
          "height": 35
        }
      },
      "source": [
        "# append a value to a list\n",
        "my_list + [100]"
      ],
      "execution_count": null,
      "outputs": [
        {
          "output_type": "execute_result",
          "data": {
            "text/plain": [
              "[1, 6, 9, 36, 100]"
            ]
          },
          "metadata": {
            "tags": []
          },
          "execution_count": 90
        }
      ]
    },
    {
      "cell_type": "code",
      "metadata": {
        "id": "tyAYqqw21u3m",
        "outputId": "11fbed1f-9057-49f5-a00c-fe893886f7db",
        "colab": {
          "base_uri": "https://localhost:8080/",
          "height": 35
        }
      },
      "source": [
        "my_array = np.array(my_list)\n",
        "\n",
        "# Broadcasting (Vector recycling) :) :)\n",
        "my_array + 100"
      ],
      "execution_count": null,
      "outputs": [
        {
          "output_type": "execute_result",
          "data": {
            "text/plain": [
              "array([101, 106, 109, 136])"
            ]
          },
          "metadata": {
            "tags": []
          },
          "execution_count": 91
        }
      ]
    },
    {
      "cell_type": "code",
      "metadata": {
        "id": "AqTbFTmv2o1K",
        "outputId": "63e3cf4e-314f-4ada-8ad1-9eb472694d7f",
        "colab": {
          "base_uri": "https://localhost:8080/",
          "height": 35
        }
      },
      "source": [
        "type(my_array)"
      ],
      "execution_count": null,
      "outputs": [
        {
          "output_type": "execute_result",
          "data": {
            "text/plain": [
              "numpy.ndarray"
            ]
          },
          "metadata": {
            "tags": []
          },
          "execution_count": 92
        }
      ]
    },
    {
      "cell_type": "markdown",
      "metadata": {
        "id": "k23pm6f83Flg"
      },
      "source": [
        "## DataFrames with Pandas (Data Containers IV)\n",
        "\n",
        "- `pd.DataFrame({})` produces a DataFrame from a dictionary\n",
        "- `pd.DataFrame(dict(list(zip([],[]))))` produces a DataFrame from a list of names and list of lists"
      ]
    },
    {
      "cell_type": "code",
      "metadata": {
        "id": "-ybckpl43R70"
      },
      "source": [
        "foo1 = [True, False, False, True, True, False]\n",
        "foo2 = [\"Liver\", \"Brain\", \"Testes\", \"Muscle\", \"Intestine\", \"Heart\"]\n",
        "foo3 = [13, 88, 1233, 55, 233, 18]"
      ],
      "execution_count": null,
      "outputs": []
    },
    {
      "cell_type": "code",
      "metadata": {
        "id": "nwS4wRGM3iSg"
      },
      "source": [
        "# We have already imported pandas as pd\n",
        "# use a dictionary to get a data frame\n",
        "foo_df = pd.DataFrame({'healthy': foo1, \n",
        "                       'tissue': foo2, \n",
        "                       'quantity': foo3})"
      ],
      "execution_count": null,
      "outputs": []
    },
    {
      "cell_type": "code",
      "metadata": {
        "id": "3pZLmhaw35Sk",
        "outputId": "3afb2d73-7193-4777-a3a9-c037dc3a6ceb",
        "colab": {
          "base_uri": "https://localhost:8080/",
          "height": 233
        }
      },
      "source": [
        "foo_df"
      ],
      "execution_count": null,
      "outputs": [
        {
          "output_type": "execute_result",
          "data": {
            "text/html": [
              "<div>\n",
              "<style scoped>\n",
              "    .dataframe tbody tr th:only-of-type {\n",
              "        vertical-align: middle;\n",
              "    }\n",
              "\n",
              "    .dataframe tbody tr th {\n",
              "        vertical-align: top;\n",
              "    }\n",
              "\n",
              "    .dataframe thead th {\n",
              "        text-align: right;\n",
              "    }\n",
              "</style>\n",
              "<table border=\"1\" class=\"dataframe\">\n",
              "  <thead>\n",
              "    <tr style=\"text-align: right;\">\n",
              "      <th></th>\n",
              "      <th>healthy</th>\n",
              "      <th>tissue</th>\n",
              "      <th>quantity</th>\n",
              "    </tr>\n",
              "  </thead>\n",
              "  <tbody>\n",
              "    <tr>\n",
              "      <th>0</th>\n",
              "      <td>True</td>\n",
              "      <td>Liver</td>\n",
              "      <td>13</td>\n",
              "    </tr>\n",
              "    <tr>\n",
              "      <th>1</th>\n",
              "      <td>False</td>\n",
              "      <td>Brain</td>\n",
              "      <td>88</td>\n",
              "    </tr>\n",
              "    <tr>\n",
              "      <th>2</th>\n",
              "      <td>False</td>\n",
              "      <td>Testes</td>\n",
              "      <td>1233</td>\n",
              "    </tr>\n",
              "    <tr>\n",
              "      <th>3</th>\n",
              "      <td>True</td>\n",
              "      <td>Muscle</td>\n",
              "      <td>55</td>\n",
              "    </tr>\n",
              "    <tr>\n",
              "      <th>4</th>\n",
              "      <td>True</td>\n",
              "      <td>Intestine</td>\n",
              "      <td>233</td>\n",
              "    </tr>\n",
              "    <tr>\n",
              "      <th>5</th>\n",
              "      <td>False</td>\n",
              "      <td>Heart</td>\n",
              "      <td>18</td>\n",
              "    </tr>\n",
              "  </tbody>\n",
              "</table>\n",
              "</div>"
            ],
            "text/plain": [
              "   healthy     tissue  quantity\n",
              "0     True      Liver        13\n",
              "1    False      Brain        88\n",
              "2    False     Testes      1233\n",
              "3     True     Muscle        55\n",
              "4     True  Intestine       233\n",
              "5    False      Heart        18"
            ]
          },
          "metadata": {
            "tags": []
          },
          "execution_count": 95
        }
      ]
    },
    {
      "cell_type": "markdown",
      "metadata": {
        "id": "RJJjj5Be4EG3"
      },
      "source": [
        "**Exercise 4.1**"
      ]
    },
    {
      "cell_type": "code",
      "metadata": {
        "id": "cA_Ma1rS4Ffs",
        "outputId": "f1e407a5-b847-49ce-c435-355adf2c6e59",
        "colab": {
          "base_uri": "https://localhost:8080/",
          "height": 202
        }
      },
      "source": [
        "distDictDF = pd.DataFrame({\"City\": cities,\n",
        "                           \"Distance\": dist})\n",
        "distDictDF"
      ],
      "execution_count": null,
      "outputs": [
        {
          "output_type": "execute_result",
          "data": {
            "text/html": [
              "<div>\n",
              "<style scoped>\n",
              "    .dataframe tbody tr th:only-of-type {\n",
              "        vertical-align: middle;\n",
              "    }\n",
              "\n",
              "    .dataframe tbody tr th {\n",
              "        vertical-align: top;\n",
              "    }\n",
              "\n",
              "    .dataframe thead th {\n",
              "        text-align: right;\n",
              "    }\n",
              "</style>\n",
              "<table border=\"1\" class=\"dataframe\">\n",
              "  <thead>\n",
              "    <tr style=\"text-align: right;\">\n",
              "      <th></th>\n",
              "      <th>City</th>\n",
              "      <th>Distance</th>\n",
              "    </tr>\n",
              "  </thead>\n",
              "  <tbody>\n",
              "    <tr>\n",
              "      <th>0</th>\n",
              "      <td>Munich</td>\n",
              "      <td>584</td>\n",
              "    </tr>\n",
              "    <tr>\n",
              "      <th>1</th>\n",
              "      <td>Paris</td>\n",
              "      <td>1054</td>\n",
              "    </tr>\n",
              "    <tr>\n",
              "      <th>2</th>\n",
              "      <td>Amsterdam</td>\n",
              "      <td>653</td>\n",
              "    </tr>\n",
              "    <tr>\n",
              "      <th>3</th>\n",
              "      <td>Madrid</td>\n",
              "      <td>2301</td>\n",
              "    </tr>\n",
              "    <tr>\n",
              "      <th>4</th>\n",
              "      <td>Istanbul</td>\n",
              "      <td>2191</td>\n",
              "    </tr>\n",
              "  </tbody>\n",
              "</table>\n",
              "</div>"
            ],
            "text/plain": [
              "        City  Distance\n",
              "0     Munich       584\n",
              "1      Paris      1054\n",
              "2  Amsterdam       653\n",
              "3     Madrid      2301\n",
              "4   Istanbul      2191"
            ]
          },
          "metadata": {
            "tags": []
          },
          "execution_count": 96
        }
      ]
    },
    {
      "cell_type": "markdown",
      "metadata": {
        "id": "Plwa5G8p478d"
      },
      "source": [
        "#### From Lists (jsut as an example)"
      ]
    },
    {
      "cell_type": "code",
      "metadata": {
        "id": "rEISq4-Z4-YS",
        "outputId": "5aa37413-9e35-470a-c367-17a44bdb14f8",
        "colab": {
          "base_uri": "https://localhost:8080/",
          "height": 71
        }
      },
      "source": [
        "# names\n",
        "list_names = ['healthy', 'tissue', 'quantity']\n",
        "\n",
        "# columns are a list of lists\n",
        "list_cols = [foo1, foo2, foo3]\n",
        "list_cols"
      ],
      "execution_count": null,
      "outputs": [
        {
          "output_type": "execute_result",
          "data": {
            "text/plain": [
              "[[True, False, False, True, True, False],\n",
              " ['Liver', 'Brain', 'Testes', 'Muscle', 'Intestine', 'Heart'],\n",
              " [13, 88, 1233, 55, 233, 18]]"
            ]
          },
          "metadata": {
            "tags": []
          },
          "execution_count": 97
        }
      ]
    },
    {
      "cell_type": "code",
      "metadata": {
        "id": "hvOL7qYI5VNW",
        "outputId": "4b1e3097-54b0-4648-a5f5-681a4b6c065f",
        "colab": {
          "base_uri": "https://localhost:8080/",
          "height": 71
        }
      },
      "source": [
        "zip_list = list(zip(list_names, list_cols))\n",
        "zip_list"
      ],
      "execution_count": null,
      "outputs": [
        {
          "output_type": "execute_result",
          "data": {
            "text/plain": [
              "[('healthy', [True, False, False, True, True, False]),\n",
              " ('tissue', ['Liver', 'Brain', 'Testes', 'Muscle', 'Intestine', 'Heart']),\n",
              " ('quantity', [13, 88, 1233, 55, 233, 18])]"
            ]
          },
          "metadata": {
            "tags": []
          },
          "execution_count": 98
        }
      ]
    },
    {
      "cell_type": "code",
      "metadata": {
        "id": "ydw3mGDC5d9q",
        "outputId": "d30c2557-efb2-4acc-b53f-bf63e77dc7d4",
        "colab": {
          "base_uri": "https://localhost:8080/",
          "height": 71
        }
      },
      "source": [
        "zip_dict = dict(zip_list)\n",
        "zip_dict # True dictionary"
      ],
      "execution_count": null,
      "outputs": [
        {
          "output_type": "execute_result",
          "data": {
            "text/plain": [
              "{'healthy': [True, False, False, True, True, False],\n",
              " 'quantity': [13, 88, 1233, 55, 233, 18],\n",
              " 'tissue': ['Liver', 'Brain', 'Testes', 'Muscle', 'Intestine', 'Heart']}"
            ]
          },
          "metadata": {
            "tags": []
          },
          "execution_count": 99
        }
      ]
    },
    {
      "cell_type": "code",
      "metadata": {
        "id": "6R-u-Hcc5eOz",
        "outputId": "1213320c-3272-4e4e-8bcc-5b45ca07a16f",
        "colab": {
          "base_uri": "https://localhost:8080/",
          "height": 233
        }
      },
      "source": [
        "zip_df = pd.DataFrame(zip_dict)\n",
        "zip_df"
      ],
      "execution_count": null,
      "outputs": [
        {
          "output_type": "execute_result",
          "data": {
            "text/html": [
              "<div>\n",
              "<style scoped>\n",
              "    .dataframe tbody tr th:only-of-type {\n",
              "        vertical-align: middle;\n",
              "    }\n",
              "\n",
              "    .dataframe tbody tr th {\n",
              "        vertical-align: top;\n",
              "    }\n",
              "\n",
              "    .dataframe thead th {\n",
              "        text-align: right;\n",
              "    }\n",
              "</style>\n",
              "<table border=\"1\" class=\"dataframe\">\n",
              "  <thead>\n",
              "    <tr style=\"text-align: right;\">\n",
              "      <th></th>\n",
              "      <th>healthy</th>\n",
              "      <th>tissue</th>\n",
              "      <th>quantity</th>\n",
              "    </tr>\n",
              "  </thead>\n",
              "  <tbody>\n",
              "    <tr>\n",
              "      <th>0</th>\n",
              "      <td>True</td>\n",
              "      <td>Liver</td>\n",
              "      <td>13</td>\n",
              "    </tr>\n",
              "    <tr>\n",
              "      <th>1</th>\n",
              "      <td>False</td>\n",
              "      <td>Brain</td>\n",
              "      <td>88</td>\n",
              "    </tr>\n",
              "    <tr>\n",
              "      <th>2</th>\n",
              "      <td>False</td>\n",
              "      <td>Testes</td>\n",
              "      <td>1233</td>\n",
              "    </tr>\n",
              "    <tr>\n",
              "      <th>3</th>\n",
              "      <td>True</td>\n",
              "      <td>Muscle</td>\n",
              "      <td>55</td>\n",
              "    </tr>\n",
              "    <tr>\n",
              "      <th>4</th>\n",
              "      <td>True</td>\n",
              "      <td>Intestine</td>\n",
              "      <td>233</td>\n",
              "    </tr>\n",
              "    <tr>\n",
              "      <th>5</th>\n",
              "      <td>False</td>\n",
              "      <td>Heart</td>\n",
              "      <td>18</td>\n",
              "    </tr>\n",
              "  </tbody>\n",
              "</table>\n",
              "</div>"
            ],
            "text/plain": [
              "   healthy     tissue  quantity\n",
              "0     True      Liver        13\n",
              "1    False      Brain        88\n",
              "2    False     Testes      1233\n",
              "3     True     Muscle        55\n",
              "4     True  Intestine       233\n",
              "5    False      Heart        18"
            ]
          },
          "metadata": {
            "tags": []
          },
          "execution_count": 100
        }
      ]
    },
    {
      "cell_type": "markdown",
      "metadata": {
        "id": "01VXYScj6b6o"
      },
      "source": [
        "### Working with DataFrames"
      ]
    },
    {
      "cell_type": "code",
      "metadata": {
        "id": "lfawX4hg6Y9U",
        "outputId": "66ac050a-180f-4622-eefe-3e8ec86c4cce",
        "colab": {
          "base_uri": "https://localhost:8080/",
          "height": 143
        }
      },
      "source": [
        "foo_df['healthy'] #indexing by name, an individual column \"Series\", 1-dim array"
      ],
      "execution_count": null,
      "outputs": [
        {
          "output_type": "execute_result",
          "data": {
            "text/plain": [
              "0     True\n",
              "1    False\n",
              "2    False\n",
              "3     True\n",
              "4     True\n",
              "5    False\n",
              "Name: healthy, dtype: bool"
            ]
          },
          "metadata": {
            "tags": []
          },
          "execution_count": 101
        }
      ]
    },
    {
      "cell_type": "code",
      "metadata": {
        "id": "ugwLuJWY6XE0",
        "outputId": "89f0b8f2-f66b-4884-c109-2db32f56113d",
        "colab": {
          "base_uri": "https://localhost:8080/",
          "height": 233
        }
      },
      "source": [
        "foo_df[['healthy']] # DataFrame with 1 column"
      ],
      "execution_count": null,
      "outputs": [
        {
          "output_type": "execute_result",
          "data": {
            "text/html": [
              "<div>\n",
              "<style scoped>\n",
              "    .dataframe tbody tr th:only-of-type {\n",
              "        vertical-align: middle;\n",
              "    }\n",
              "\n",
              "    .dataframe tbody tr th {\n",
              "        vertical-align: top;\n",
              "    }\n",
              "\n",
              "    .dataframe thead th {\n",
              "        text-align: right;\n",
              "    }\n",
              "</style>\n",
              "<table border=\"1\" class=\"dataframe\">\n",
              "  <thead>\n",
              "    <tr style=\"text-align: right;\">\n",
              "      <th></th>\n",
              "      <th>healthy</th>\n",
              "    </tr>\n",
              "  </thead>\n",
              "  <tbody>\n",
              "    <tr>\n",
              "      <th>0</th>\n",
              "      <td>True</td>\n",
              "    </tr>\n",
              "    <tr>\n",
              "      <th>1</th>\n",
              "      <td>False</td>\n",
              "    </tr>\n",
              "    <tr>\n",
              "      <th>2</th>\n",
              "      <td>False</td>\n",
              "    </tr>\n",
              "    <tr>\n",
              "      <th>3</th>\n",
              "      <td>True</td>\n",
              "    </tr>\n",
              "    <tr>\n",
              "      <th>4</th>\n",
              "      <td>True</td>\n",
              "    </tr>\n",
              "    <tr>\n",
              "      <th>5</th>\n",
              "      <td>False</td>\n",
              "    </tr>\n",
              "  </tbody>\n",
              "</table>\n",
              "</div>"
            ],
            "text/plain": [
              "   healthy\n",
              "0     True\n",
              "1    False\n",
              "2    False\n",
              "3     True\n",
              "4     True\n",
              "5    False"
            ]
          },
          "metadata": {
            "tags": []
          },
          "execution_count": 102
        }
      ]
    },
    {
      "cell_type": "code",
      "metadata": {
        "id": "Fo6BWEE56375",
        "outputId": "fefcd281-9ee2-4b52-e805-338035356075",
        "colab": {
          "base_uri": "https://localhost:8080/",
          "height": 143
        }
      },
      "source": [
        "foo_df.healthy # Get the Series using a `.` notation"
      ],
      "execution_count": null,
      "outputs": [
        {
          "output_type": "execute_result",
          "data": {
            "text/plain": [
              "0     True\n",
              "1    False\n",
              "2    False\n",
              "3     True\n",
              "4     True\n",
              "5    False\n",
              "Name: healthy, dtype: bool"
            ]
          },
          "metadata": {
            "tags": []
          },
          "execution_count": 103
        }
      ]
    },
    {
      "cell_type": "code",
      "metadata": {
        "id": "3Zc9r9sh7jer",
        "outputId": "c63c1fff-c02a-4c7f-d5e0-8f9bf67447a5",
        "colab": {
          "base_uri": "https://localhost:8080/",
          "height": 233
        }
      },
      "source": [
        "# Add a new column and populate it with the value (which is recycled, i.e. \"broadcast\" over the length of the Series)\n",
        "foo_df['new'] = 0\n",
        "foo_df"
      ],
      "execution_count": null,
      "outputs": [
        {
          "output_type": "execute_result",
          "data": {
            "text/html": [
              "<div>\n",
              "<style scoped>\n",
              "    .dataframe tbody tr th:only-of-type {\n",
              "        vertical-align: middle;\n",
              "    }\n",
              "\n",
              "    .dataframe tbody tr th {\n",
              "        vertical-align: top;\n",
              "    }\n",
              "\n",
              "    .dataframe thead th {\n",
              "        text-align: right;\n",
              "    }\n",
              "</style>\n",
              "<table border=\"1\" class=\"dataframe\">\n",
              "  <thead>\n",
              "    <tr style=\"text-align: right;\">\n",
              "      <th></th>\n",
              "      <th>healthy</th>\n",
              "      <th>tissue</th>\n",
              "      <th>quantity</th>\n",
              "      <th>new</th>\n",
              "    </tr>\n",
              "  </thead>\n",
              "  <tbody>\n",
              "    <tr>\n",
              "      <th>0</th>\n",
              "      <td>True</td>\n",
              "      <td>Liver</td>\n",
              "      <td>13</td>\n",
              "      <td>0</td>\n",
              "    </tr>\n",
              "    <tr>\n",
              "      <th>1</th>\n",
              "      <td>False</td>\n",
              "      <td>Brain</td>\n",
              "      <td>88</td>\n",
              "      <td>0</td>\n",
              "    </tr>\n",
              "    <tr>\n",
              "      <th>2</th>\n",
              "      <td>False</td>\n",
              "      <td>Testes</td>\n",
              "      <td>1233</td>\n",
              "      <td>0</td>\n",
              "    </tr>\n",
              "    <tr>\n",
              "      <th>3</th>\n",
              "      <td>True</td>\n",
              "      <td>Muscle</td>\n",
              "      <td>55</td>\n",
              "      <td>0</td>\n",
              "    </tr>\n",
              "    <tr>\n",
              "      <th>4</th>\n",
              "      <td>True</td>\n",
              "      <td>Intestine</td>\n",
              "      <td>233</td>\n",
              "      <td>0</td>\n",
              "    </tr>\n",
              "    <tr>\n",
              "      <th>5</th>\n",
              "      <td>False</td>\n",
              "      <td>Heart</td>\n",
              "      <td>18</td>\n",
              "      <td>0</td>\n",
              "    </tr>\n",
              "  </tbody>\n",
              "</table>\n",
              "</div>"
            ],
            "text/plain": [
              "   healthy     tissue  quantity  new\n",
              "0     True      Liver        13    0\n",
              "1    False      Brain        88    0\n",
              "2    False     Testes      1233    0\n",
              "3     True     Muscle        55    0\n",
              "4     True  Intestine       233    0\n",
              "5    False      Heart        18    0"
            ]
          },
          "metadata": {
            "tags": []
          },
          "execution_count": 104
        }
      ]
    },
    {
      "cell_type": "code",
      "metadata": {
        "id": "J5z94wn87l5D",
        "outputId": "f1e8a54b-06ca-4a8f-ba37-26a0d0158149",
        "colab": {
          "base_uri": "https://localhost:8080/",
          "height": 233
        }
      },
      "source": [
        "# But this doesn't work\n",
        "foo_df.new2 = 4\n",
        "foo_df"
      ],
      "execution_count": null,
      "outputs": [
        {
          "output_type": "execute_result",
          "data": {
            "text/html": [
              "<div>\n",
              "<style scoped>\n",
              "    .dataframe tbody tr th:only-of-type {\n",
              "        vertical-align: middle;\n",
              "    }\n",
              "\n",
              "    .dataframe tbody tr th {\n",
              "        vertical-align: top;\n",
              "    }\n",
              "\n",
              "    .dataframe thead th {\n",
              "        text-align: right;\n",
              "    }\n",
              "</style>\n",
              "<table border=\"1\" class=\"dataframe\">\n",
              "  <thead>\n",
              "    <tr style=\"text-align: right;\">\n",
              "      <th></th>\n",
              "      <th>healthy</th>\n",
              "      <th>tissue</th>\n",
              "      <th>quantity</th>\n",
              "      <th>new</th>\n",
              "    </tr>\n",
              "  </thead>\n",
              "  <tbody>\n",
              "    <tr>\n",
              "      <th>0</th>\n",
              "      <td>True</td>\n",
              "      <td>Liver</td>\n",
              "      <td>13</td>\n",
              "      <td>0</td>\n",
              "    </tr>\n",
              "    <tr>\n",
              "      <th>1</th>\n",
              "      <td>False</td>\n",
              "      <td>Brain</td>\n",
              "      <td>88</td>\n",
              "      <td>0</td>\n",
              "    </tr>\n",
              "    <tr>\n",
              "      <th>2</th>\n",
              "      <td>False</td>\n",
              "      <td>Testes</td>\n",
              "      <td>1233</td>\n",
              "      <td>0</td>\n",
              "    </tr>\n",
              "    <tr>\n",
              "      <th>3</th>\n",
              "      <td>True</td>\n",
              "      <td>Muscle</td>\n",
              "      <td>55</td>\n",
              "      <td>0</td>\n",
              "    </tr>\n",
              "    <tr>\n",
              "      <th>4</th>\n",
              "      <td>True</td>\n",
              "      <td>Intestine</td>\n",
              "      <td>233</td>\n",
              "      <td>0</td>\n",
              "    </tr>\n",
              "    <tr>\n",
              "      <th>5</th>\n",
              "      <td>False</td>\n",
              "      <td>Heart</td>\n",
              "      <td>18</td>\n",
              "      <td>0</td>\n",
              "    </tr>\n",
              "  </tbody>\n",
              "</table>\n",
              "</div>"
            ],
            "text/plain": [
              "   healthy     tissue  quantity  new\n",
              "0     True      Liver        13    0\n",
              "1    False      Brain        88    0\n",
              "2    False     Testes      1233    0\n",
              "3     True     Muscle        55    0\n",
              "4     True  Intestine       233    0\n",
              "5    False      Heart        18    0"
            ]
          },
          "metadata": {
            "tags": []
          },
          "execution_count": 105
        }
      ]
    },
    {
      "cell_type": "markdown",
      "metadata": {
        "id": "GWD69vFWBuf9"
      },
      "source": [
        "# Mini-case study - exercise 4.8"
      ]
    },
    {
      "cell_type": "code",
      "metadata": {
        "id": "wuv8Z6dELj4s",
        "outputId": "c7887ecd-a8d5-4b4a-b748-0e9b87dfb7d2",
        "colab": {
          "base_uri": "https://localhost:8080/",
          "height": 202
        }
      },
      "source": [
        "import pandas as pd\n",
        "mtcars = pd.read_csv('data/mtcars.csv')\n",
        "mtcars.head()"
      ],
      "execution_count": null,
      "outputs": [
        {
          "output_type": "execute_result",
          "data": {
            "text/html": [
              "<div>\n",
              "<style scoped>\n",
              "    .dataframe tbody tr th:only-of-type {\n",
              "        vertical-align: middle;\n",
              "    }\n",
              "\n",
              "    .dataframe tbody tr th {\n",
              "        vertical-align: top;\n",
              "    }\n",
              "\n",
              "    .dataframe thead th {\n",
              "        text-align: right;\n",
              "    }\n",
              "</style>\n",
              "<table border=\"1\" class=\"dataframe\">\n",
              "  <thead>\n",
              "    <tr style=\"text-align: right;\">\n",
              "      <th></th>\n",
              "      <th>model</th>\n",
              "      <th>mpg</th>\n",
              "      <th>cyl</th>\n",
              "      <th>disp</th>\n",
              "      <th>hp</th>\n",
              "      <th>drat</th>\n",
              "      <th>wt</th>\n",
              "      <th>qsec</th>\n",
              "      <th>vs</th>\n",
              "      <th>am</th>\n",
              "      <th>gear</th>\n",
              "      <th>carb</th>\n",
              "    </tr>\n",
              "  </thead>\n",
              "  <tbody>\n",
              "    <tr>\n",
              "      <th>0</th>\n",
              "      <td>Mazda RX4</td>\n",
              "      <td>21.0</td>\n",
              "      <td>6</td>\n",
              "      <td>160.0</td>\n",
              "      <td>110</td>\n",
              "      <td>3.90</td>\n",
              "      <td>2.620</td>\n",
              "      <td>16.46</td>\n",
              "      <td>0</td>\n",
              "      <td>1</td>\n",
              "      <td>4</td>\n",
              "      <td>4</td>\n",
              "    </tr>\n",
              "    <tr>\n",
              "      <th>1</th>\n",
              "      <td>Mazda RX4 Wag</td>\n",
              "      <td>21.0</td>\n",
              "      <td>6</td>\n",
              "      <td>160.0</td>\n",
              "      <td>110</td>\n",
              "      <td>3.90</td>\n",
              "      <td>2.875</td>\n",
              "      <td>17.02</td>\n",
              "      <td>0</td>\n",
              "      <td>1</td>\n",
              "      <td>4</td>\n",
              "      <td>4</td>\n",
              "    </tr>\n",
              "    <tr>\n",
              "      <th>2</th>\n",
              "      <td>Datsun 710</td>\n",
              "      <td>22.8</td>\n",
              "      <td>4</td>\n",
              "      <td>108.0</td>\n",
              "      <td>93</td>\n",
              "      <td>3.85</td>\n",
              "      <td>2.320</td>\n",
              "      <td>18.61</td>\n",
              "      <td>1</td>\n",
              "      <td>1</td>\n",
              "      <td>4</td>\n",
              "      <td>1</td>\n",
              "    </tr>\n",
              "    <tr>\n",
              "      <th>3</th>\n",
              "      <td>Hornet 4 Drive</td>\n",
              "      <td>21.4</td>\n",
              "      <td>6</td>\n",
              "      <td>258.0</td>\n",
              "      <td>110</td>\n",
              "      <td>3.08</td>\n",
              "      <td>3.215</td>\n",
              "      <td>19.44</td>\n",
              "      <td>1</td>\n",
              "      <td>0</td>\n",
              "      <td>3</td>\n",
              "      <td>1</td>\n",
              "    </tr>\n",
              "    <tr>\n",
              "      <th>4</th>\n",
              "      <td>Hornet Sportabout</td>\n",
              "      <td>18.7</td>\n",
              "      <td>8</td>\n",
              "      <td>360.0</td>\n",
              "      <td>175</td>\n",
              "      <td>3.15</td>\n",
              "      <td>3.440</td>\n",
              "      <td>17.02</td>\n",
              "      <td>0</td>\n",
              "      <td>0</td>\n",
              "      <td>3</td>\n",
              "      <td>2</td>\n",
              "    </tr>\n",
              "  </tbody>\n",
              "</table>\n",
              "</div>"
            ],
            "text/plain": [
              "               model   mpg  cyl   disp   hp  ...   qsec  vs  am  gear  carb\n",
              "0          Mazda RX4  21.0    6  160.0  110  ...  16.46   0   1     4     4\n",
              "1      Mazda RX4 Wag  21.0    6  160.0  110  ...  17.02   0   1     4     4\n",
              "2         Datsun 710  22.8    4  108.0   93  ...  18.61   1   1     4     1\n",
              "3     Hornet 4 Drive  21.4    6  258.0  110  ...  19.44   1   0     3     1\n",
              "4  Hornet Sportabout  18.7    8  360.0  175  ...  17.02   0   0     3     2\n",
              "\n",
              "[5 rows x 12 columns]"
            ]
          },
          "metadata": {
            "tags": []
          },
          "execution_count": 107
        }
      ]
    },
    {
      "cell_type": "markdown",
      "metadata": {
        "id": "sULLOJHIL3_6"
      },
      "source": [
        "1. Calculate the correlation between `mpg` and `wt` and test if it is significant."
      ]
    },
    {
      "cell_type": "code",
      "metadata": {
        "id": "68It7SPJL3Uq"
      },
      "source": [
        "# corr() is not a function:\n",
        "# corr(mtcars['mpg'], mtcars['wt'])"
      ],
      "execution_count": null,
      "outputs": []
    },
    {
      "cell_type": "code",
      "metadata": {
        "id": "2rNcYxsyPVtk",
        "outputId": "f78e090f-9e11-41ab-c1b2-53daab6e8ca7",
        "colab": {
          "base_uri": "https://localhost:8080/",
          "height": 53
        }
      },
      "source": [
        "# A correlation matrix\n",
        "cor_mat = mtcars.corr()\n",
        "cor_mat[['wt']].iloc[0]"
      ],
      "execution_count": null,
      "outputs": [
        {
          "output_type": "execute_result",
          "data": {
            "text/plain": [
              "wt   -0.867659\n",
              "Name: mpg, dtype: float64"
            ]
          },
          "metadata": {
            "tags": []
          },
          "execution_count": 109
        }
      ]
    },
    {
      "cell_type": "code",
      "metadata": {
        "id": "4in2ktTzQAA2",
        "outputId": "33100d18-145a-4752-f282-f891b281eb23",
        "colab": {
          "base_uri": "https://localhost:8080/",
          "height": 35
        }
      },
      "source": [
        "# Targeted correlation between two Series in the DataFrame\n",
        "mtcars['mpg'].corr(mtcars['wt']) "
      ],
      "execution_count": null,
      "outputs": [
        {
          "output_type": "execute_result",
          "data": {
            "text/plain": [
              "-0.8676593765172279"
            ]
          },
          "metadata": {
            "tags": []
          },
          "execution_count": 110
        }
      ]
    },
    {
      "cell_type": "code",
      "metadata": {
        "id": "c9AsYzUgQUzl",
        "outputId": "70932f00-3fb9-4985-fac0-a8eea5da8975",
        "colab": {
          "base_uri": "https://localhost:8080/",
          "height": 53
        }
      },
      "source": [
        "# Using NumPy\n",
        "r = np.corrcoef(mtcars['mpg'], mtcars['wt'])\n",
        "r"
      ],
      "execution_count": null,
      "outputs": [
        {
          "output_type": "execute_result",
          "data": {
            "text/plain": [
              "array([[ 1.        , -0.86765938],\n",
              "       [-0.86765938,  1.        ]])"
            ]
          },
          "metadata": {
            "tags": []
          },
          "execution_count": 111
        }
      ]
    },
    {
      "cell_type": "code",
      "metadata": {
        "id": "cXJyzDrLQ1-A"
      },
      "source": [
        "# import pingouin as pg  \n",
        "# pg.corr(x=mtcars['mpg'], y=mtcars['wt'])"
      ],
      "execution_count": null,
      "outputs": []
    },
    {
      "cell_type": "code",
      "metadata": {
        "id": "0vFqLHQqRx1y",
        "outputId": "225b4d33-f18e-4a52-8d7d-8c94461db3d1",
        "colab": {
          "base_uri": "https://localhost:8080/",
          "height": 35
        }
      },
      "source": [
        "import scipy.stats as stats\n",
        "stats.pearsonr(mtcars['mpg'], mtcars['wt'])"
      ],
      "execution_count": null,
      "outputs": [
        {
          "output_type": "execute_result",
          "data": {
            "text/plain": [
              "(-0.8676593765172279, 1.2939587013504974e-10)"
            ]
          },
          "metadata": {
            "tags": []
          },
          "execution_count": 113
        }
      ]
    },
    {
      "cell_type": "markdown",
      "metadata": {
        "id": "_JIE_VeTL6fT"
      },
      "source": [
        "2. Visualize the relationship in an XY scatter plot (bonus points for a regression line).\n"
      ]
    },
    {
      "cell_type": "code",
      "metadata": {
        "id": "5WWbZyLRL_8c",
        "outputId": "e15efb65-44bc-4817-867a-b66f9a06a5dc",
        "colab": {
          "base_uri": "https://localhost:8080/",
          "height": 287
        }
      },
      "source": [
        "# previously imported seaborn (see above)\n",
        "# sns.scatter(x=mtcars['mpg'], y=mtcars['wt'])\n",
        "\n",
        "import matplotlib.pyplot as plt # Low level plotting\n",
        "y = mtcars.mpg\n",
        "x = mtcars.wt\n",
        "plt.scatter(x,y)\n",
        "# plt.show() "
      ],
      "execution_count": null,
      "outputs": [
        {
          "output_type": "execute_result",
          "data": {
            "text/plain": [
              "<matplotlib.collections.PathCollection at 0x7f7b61edc4e0>"
            ]
          },
          "metadata": {
            "tags": []
          },
          "execution_count": 114
        },
        {
          "output_type": "display_data",
          "data": {
            "image/png": "[encoded data removed]",
            "text/plain": [
              "<Figure size 432x288 with 1 Axes>"
            ]
          },
          "metadata": {
            "tags": [],
            "needs_background": "light"
          }
        }
      ]
    },
    {
      "cell_type": "code",
      "metadata": {
        "id": "F3FCNyrJVQco",
        "outputId": "a60f9f74-00dc-4777-c165-ed8a1ef84991",
        "colab": {
          "base_uri": "https://localhost:8080/",
          "height": 300
        }
      },
      "source": [
        "sns.regplot(x=\"wt\", y=\"mpg\", data = mtcars, ci=None)"
      ],
      "execution_count": null,
      "outputs": [
        {
          "output_type": "execute_result",
          "data": {
            "text/plain": [
              "<matplotlib.axes._subplots.AxesSubplot at 0x7f7b61edc940>"
            ]
          },
          "metadata": {
            "tags": []
          },
          "execution_count": 115
        },
        {
          "output_type": "display_data",
          "data": {
            "image/png": "[encoded data removed]",
            "text/plain": [
              "<Figure size 432x288 with 1 Axes>"
            ]
          },
          "metadata": {
            "tags": [],
            "needs_background": "light"
          }
        }
      ]
    },
    {
      "cell_type": "code",
      "metadata": {
        "id": "AVk_5j03VX4r",
        "outputId": "4e00b168-a460-43b5-f7b9-fe7efe72d19d",
        "colab": {
          "base_uri": "https://localhost:8080/",
          "height": 401
        }
      },
      "source": [
        "sns.lmplot(x=\"wt\", y=\"mpg\", data=mtcars, ci=None)"
      ],
      "execution_count": null,
      "outputs": [
        {
          "output_type": "execute_result",
          "data": {
            "text/plain": [
              "<seaborn.axisgrid.FacetGrid at 0x7f7b61e7be48>"
            ]
          },
          "metadata": {
            "tags": []
          },
          "execution_count": 116
        },
        {
          "output_type": "display_data",
          "data": {
            "image/png": "[encoded data removed]",
            "text/plain": [
              "<Figure size 360x360 with 1 Axes>"
            ]
          },
          "metadata": {
            "tags": [],
            "needs_background": "light"
          }
        }
      ]
    },
    {
      "cell_type": "code",
      "metadata": {
        "id": "osiR-Q1jWHKZ"
      },
      "source": [
        "# from sklearn.linear_model import LinearRegression\n",
        "# model = LinearRegression().fit(x, y)"
      ],
      "execution_count": null,
      "outputs": []
    },
    {
      "cell_type": "code",
      "metadata": {
        "id": "y6nX4odoWgk1",
        "outputId": "2538de1a-1d93-43d6-af90-0121ba6d5bdc",
        "colab": {
          "base_uri": "https://localhost:8080/",
          "height": 441
        }
      },
      "source": [
        "from statsmodels.formula.api import ols\n",
        "model = ols(\"mpg ~ wt\", data=mtcars)\n",
        "results = model.fit()\n",
        "results.summary()"
      ],
      "execution_count": null,
      "outputs": [
        {
          "output_type": "execute_result",
          "data": {
            "text/html": [
              "<table class=\"simpletable\">\n",
              "<caption>OLS Regression Results</caption>\n",
              "<tr>\n",
              "  <th>Dep. Variable:</th>           <td>mpg</td>       <th>  R-squared:         </th> <td>   0.753</td>\n",
              "</tr>\n",
              "<tr>\n",
              "  <th>Model:</th>                   <td>OLS</td>       <th>  Adj. R-squared:    </th> <td>   0.745</td>\n",
              "</tr>\n",
              "<tr>\n",
              "  <th>Method:</th>             <td>Least Squares</td>  <th>  F-statistic:       </th> <td>   91.38</td>\n",
              "</tr>\n",
              "<tr>\n",
              "  <th>Date:</th>             <td>Tue, 27 Oct 2020</td> <th>  Prob (F-statistic):</th> <td>1.29e-10</td>\n",
              "</tr>\n",
              "<tr>\n",
              "  <th>Time:</th>                 <td>19:04:02</td>     <th>  Log-Likelihood:    </th> <td> -80.015</td>\n",
              "</tr>\n",
              "<tr>\n",
              "  <th>No. Observations:</th>      <td>    32</td>      <th>  AIC:               </th> <td>   164.0</td>\n",
              "</tr>\n",
              "<tr>\n",
              "  <th>Df Residuals:</th>          <td>    30</td>      <th>  BIC:               </th> <td>   167.0</td>\n",
              "</tr>\n",
              "<tr>\n",
              "  <th>Df Model:</th>              <td>     1</td>      <th>                     </th>     <td> </td>   \n",
              "</tr>\n",
              "<tr>\n",
              "  <th>Covariance Type:</th>      <td>nonrobust</td>    <th>                     </th>     <td> </td>   \n",
              "</tr>\n",
              "</table>\n",
              "<table class=\"simpletable\">\n",
              "<tr>\n",
              "      <td></td>         <th>coef</th>     <th>std err</th>      <th>t</th>      <th>P>|t|</th>  <th>[0.025</th>    <th>0.975]</th>  \n",
              "</tr>\n",
              "<tr>\n",
              "  <th>Intercept</th> <td>   37.2851</td> <td>    1.878</td> <td>   19.858</td> <td> 0.000</td> <td>   33.450</td> <td>   41.120</td>\n",
              "</tr>\n",
              "<tr>\n",
              "  <th>wt</th>        <td>   -5.3445</td> <td>    0.559</td> <td>   -9.559</td> <td> 0.000</td> <td>   -6.486</td> <td>   -4.203</td>\n",
              "</tr>\n",
              "</table>\n",
              "<table class=\"simpletable\">\n",
              "<tr>\n",
              "  <th>Omnibus:</th>       <td> 2.988</td> <th>  Durbin-Watson:     </th> <td>   1.252</td>\n",
              "</tr>\n",
              "<tr>\n",
              "  <th>Prob(Omnibus):</th> <td> 0.225</td> <th>  Jarque-Bera (JB):  </th> <td>   2.399</td>\n",
              "</tr>\n",
              "<tr>\n",
              "  <th>Skew:</th>          <td> 0.668</td> <th>  Prob(JB):          </th> <td>   0.301</td>\n",
              "</tr>\n",
              "<tr>\n",
              "  <th>Kurtosis:</th>      <td> 2.877</td> <th>  Cond. No.          </th> <td>    12.7</td>\n",
              "</tr>\n",
              "</table><br/><br/>Warnings:<br/>[1] Standard Errors assume that the covariance matrix of the errors is correctly specified."
            ],
            "text/plain": [
              "<class 'statsmodels.iolib.summary.Summary'>\n",
              "\"\"\"\n",
              "                            OLS Regression Results                            \n",
              "==============================================================================\n",
              "Dep. Variable:                    mpg   R-squared:                       0.753\n",
              "Model:                            OLS   Adj. R-squared:                  0.745\n",
              "Method:                 Least Squares   F-statistic:                     91.38\n",
              "Date:                Tue, 27 Oct 2020   Prob (F-statistic):           1.29e-10\n",
              "Time:                        19:04:02   Log-Likelihood:                -80.015\n",
              "No. Observations:                  32   AIC:                             164.0\n",
              "Df Residuals:                      30   BIC:                             167.0\n",
              "Df Model:                           1                                         \n",
              "Covariance Type:            nonrobust                                         \n",
              "==============================================================================\n",
              "                 coef    std err          t      P>|t|      [0.025      0.975]\n",
              "------------------------------------------------------------------------------\n",
              "Intercept     37.2851      1.878     19.858      0.000      33.450      41.120\n",
              "wt            -5.3445      0.559     -9.559      0.000      -6.486      -4.203\n",
              "==============================================================================\n",
              "Omnibus:                        2.988   Durbin-Watson:                   1.252\n",
              "Prob(Omnibus):                  0.225   Jarque-Bera (JB):                2.399\n",
              "Skew:                           0.668   Prob(JB):                        0.301\n",
              "Kurtosis:                       2.877   Cond. No.                         12.7\n",
              "==============================================================================\n",
              "\n",
              "Warnings:\n",
              "[1] Standard Errors assume that the covariance matrix of the errors is correctly specified.\n",
              "\"\"\""
            ]
          },
          "metadata": {
            "tags": []
          },
          "execution_count": 118
        }
      ]
    },
    {
      "cell_type": "markdown",
      "metadata": {
        "id": "U6BIstnjXK3f"
      },
      "source": [
        "For plotting:\n",
        "\n",
        "- Continuous vs continuous (i.e. scatter plot), but also\n",
        "- Continuous vs categorical, or \n",
        "- Categorical vs continuous\n",
        "\n",
        "**Y-Axis**\n",
        "- Dependent variable (i.e. _dependent_ on the indpendent variable)\n",
        "- Response (i.e. the _outcome_)\n",
        "- f(x) (i.e. y _as a function of_ x)\n",
        "\n",
        "**X-Axis**\n",
        "- Independent variable (i.e. decided upon by the experimenter)\n",
        "- Predictor (a variable that _predicts_ a specific resonse, i.e. y)"
      ]
    },
    {
      "cell_type": "markdown",
      "metadata": {
        "id": "gZgDZQnbL8y5"
      },
      "source": [
        "3. Convert `wt` column from pounds to kg (bouns points for adding it to the DataFrame)."
      ]
    },
    {
      "cell_type": "code",
      "metadata": {
        "id": "HnjWfwxdMAgB"
      },
      "source": [
        "# Avoid making unnecessary new objects that are separate from your DataFrame\n",
        "#twocol = mtcars[['mpg','wt']]\n",
        "#twocol['kilo'] = y/2.2046\n",
        "#twocol"
      ],
      "execution_count": null,
      "outputs": []
    },
    {
      "cell_type": "code",
      "metadata": {
        "id": "2hsMXVz4boLs",
        "outputId": "11672dd1-50fa-42a4-b772-7748995e9cf9",
        "colab": {
          "base_uri": "https://localhost:8080/",
          "height": 611
        }
      },
      "source": [
        "mtcars[\"wt\"]"
      ],
      "execution_count": null,
      "outputs": [
        {
          "output_type": "execute_result",
          "data": {
            "text/plain": [
              "0     2.620\n",
              "1     2.875\n",
              "2     2.320\n",
              "3     3.215\n",
              "4     3.440\n",
              "5     3.460\n",
              "6     3.570\n",
              "7     3.190\n",
              "8     3.150\n",
              "9     3.440\n",
              "10    3.440\n",
              "11    4.070\n",
              "12    3.730\n",
              "13    3.780\n",
              "14    5.250\n",
              "15    5.424\n",
              "16    5.345\n",
              "17    2.200\n",
              "18    1.615\n",
              "19    1.835\n",
              "20    2.465\n",
              "21    3.520\n",
              "22    3.435\n",
              "23    3.840\n",
              "24    3.845\n",
              "25    1.935\n",
              "26    2.140\n",
              "27    1.513\n",
              "28    3.170\n",
              "29    2.770\n",
              "30    3.570\n",
              "31    2.780\n",
              "Name: wt, dtype: float64"
            ]
          },
          "metadata": {
            "tags": []
          },
          "execution_count": 120
        }
      ]
    },
    {
      "cell_type": "code",
      "metadata": {
        "id": "fi-BI1m_bb7h",
        "outputId": "f9b9b999-34bd-4c51-f4e3-5ae37c8f46df",
        "colab": {
          "base_uri": "https://localhost:8080/",
          "height": 611
        }
      },
      "source": [
        "mtcars[\"wt\"].apply(lambda x: x/2.2046) "
      ],
      "execution_count": null,
      "outputs": [
        {
          "output_type": "execute_result",
          "data": {
            "text/plain": [
              "0     1.188424\n",
              "1     1.304091\n",
              "2     1.052345\n",
              "3     1.458314\n",
              "4     1.560374\n",
              "5     1.569446\n",
              "6     1.619341\n",
              "7     1.446975\n",
              "8     1.428831\n",
              "9     1.560374\n",
              "10    1.560374\n",
              "11    1.846140\n",
              "12    1.691917\n",
              "13    1.714597\n",
              "14    2.381384\n",
              "15    2.460310\n",
              "16    2.424476\n",
              "17    0.997913\n",
              "18    0.732559\n",
              "19    0.832351\n",
              "20    1.118117\n",
              "21    1.596662\n",
              "22    1.558106\n",
              "23    1.741813\n",
              "24    1.744081\n",
              "25    0.877710\n",
              "26    0.970698\n",
              "27    0.686292\n",
              "28    1.437903\n",
              "29    1.256464\n",
              "30    1.619341\n",
              "31    1.261000\n",
              "Name: wt, dtype: float64"
            ]
          },
          "metadata": {
            "tags": []
          },
          "execution_count": 121
        }
      ]
    },
    {
      "cell_type": "code",
      "metadata": {
        "id": "1EZMrRJ4bx7T"
      },
      "source": [
        "mtcars['wt_kg'] = mtcars['wt']/2.2046226218"
      ],
      "execution_count": null,
      "outputs": []
    },
    {
      "cell_type": "code",
      "metadata": {
        "id": "__QrmSRgckZs"
      },
      "source": [
        "# Alternatvely:\n",
        "# mtcars['wt_kg_2'] = mtcars['wt']*0.453592"
      ],
      "execution_count": null,
      "outputs": []
    },
    {
      "cell_type": "markdown",
      "metadata": {
        "id": "9h0FwTnXcZzy"
      },
      "source": [
        "# Indexing\n"
      ]
    },
    {
      "cell_type": "code",
      "metadata": {
        "id": "h_Au8NxkdyjF",
        "outputId": "dd26de41-60e7-4e02-e1e8-8b0c75da4e77",
        "colab": {
          "base_uri": "https://localhost:8080/",
          "height": 233
        }
      },
      "source": [
        "foo_df"
      ],
      "execution_count": null,
      "outputs": [
        {
          "output_type": "execute_result",
          "data": {
            "text/html": [
              "<div>\n",
              "<style scoped>\n",
              "    .dataframe tbody tr th:only-of-type {\n",
              "        vertical-align: middle;\n",
              "    }\n",
              "\n",
              "    .dataframe tbody tr th {\n",
              "        vertical-align: top;\n",
              "    }\n",
              "\n",
              "    .dataframe thead th {\n",
              "        text-align: right;\n",
              "    }\n",
              "</style>\n",
              "<table border=\"1\" class=\"dataframe\">\n",
              "  <thead>\n",
              "    <tr style=\"text-align: right;\">\n",
              "      <th></th>\n",
              "      <th>healthy</th>\n",
              "      <th>tissue</th>\n",
              "      <th>quantity</th>\n",
              "      <th>new</th>\n",
              "    </tr>\n",
              "  </thead>\n",
              "  <tbody>\n",
              "    <tr>\n",
              "      <th>0</th>\n",
              "      <td>True</td>\n",
              "      <td>Liver</td>\n",
              "      <td>13</td>\n",
              "      <td>0</td>\n",
              "    </tr>\n",
              "    <tr>\n",
              "      <th>1</th>\n",
              "      <td>False</td>\n",
              "      <td>Brain</td>\n",
              "      <td>88</td>\n",
              "      <td>0</td>\n",
              "    </tr>\n",
              "    <tr>\n",
              "      <th>2</th>\n",
              "      <td>False</td>\n",
              "      <td>Testes</td>\n",
              "      <td>1233</td>\n",
              "      <td>0</td>\n",
              "    </tr>\n",
              "    <tr>\n",
              "      <th>3</th>\n",
              "      <td>True</td>\n",
              "      <td>Muscle</td>\n",
              "      <td>55</td>\n",
              "      <td>0</td>\n",
              "    </tr>\n",
              "    <tr>\n",
              "      <th>4</th>\n",
              "      <td>True</td>\n",
              "      <td>Intestine</td>\n",
              "      <td>233</td>\n",
              "      <td>0</td>\n",
              "    </tr>\n",
              "    <tr>\n",
              "      <th>5</th>\n",
              "      <td>False</td>\n",
              "      <td>Heart</td>\n",
              "      <td>18</td>\n",
              "      <td>0</td>\n",
              "    </tr>\n",
              "  </tbody>\n",
              "</table>\n",
              "</div>"
            ],
            "text/plain": [
              "   healthy     tissue  quantity  new\n",
              "0     True      Liver        13    0\n",
              "1    False      Brain        88    0\n",
              "2    False     Testes      1233    0\n",
              "3     True     Muscle        55    0\n",
              "4     True  Intestine       233    0\n",
              "5    False      Heart        18    0"
            ]
          },
          "metadata": {
            "tags": []
          },
          "execution_count": 124
        }
      ]
    },
    {
      "cell_type": "code",
      "metadata": {
        "id": "1I0KixJqd6v8",
        "outputId": "64e59922-a9d7-41b4-d058-89aa629687ab",
        "colab": {
          "base_uri": "https://localhost:8080/",
          "height": 143
        }
      },
      "source": [
        "foo_df['tissue']"
      ],
      "execution_count": null,
      "outputs": [
        {
          "output_type": "execute_result",
          "data": {
            "text/plain": [
              "0        Liver\n",
              "1        Brain\n",
              "2       Testes\n",
              "3       Muscle\n",
              "4    Intestine\n",
              "5        Heart\n",
              "Name: tissue, dtype: object"
            ]
          },
          "metadata": {
            "tags": []
          },
          "execution_count": 125
        }
      ]
    },
    {
      "cell_type": "code",
      "metadata": {
        "id": "FK86PJSud7ir",
        "outputId": "3f865bbc-42cb-40d7-a498-0d9c63d840da",
        "colab": {
          "base_uri": "https://localhost:8080/",
          "height": 233
        }
      },
      "source": [
        "foo_df[['tissue']]"
      ],
      "execution_count": null,
      "outputs": [
        {
          "output_type": "execute_result",
          "data": {
            "text/html": [
              "<div>\n",
              "<style scoped>\n",
              "    .dataframe tbody tr th:only-of-type {\n",
              "        vertical-align: middle;\n",
              "    }\n",
              "\n",
              "    .dataframe tbody tr th {\n",
              "        vertical-align: top;\n",
              "    }\n",
              "\n",
              "    .dataframe thead th {\n",
              "        text-align: right;\n",
              "    }\n",
              "</style>\n",
              "<table border=\"1\" class=\"dataframe\">\n",
              "  <thead>\n",
              "    <tr style=\"text-align: right;\">\n",
              "      <th></th>\n",
              "      <th>tissue</th>\n",
              "    </tr>\n",
              "  </thead>\n",
              "  <tbody>\n",
              "    <tr>\n",
              "      <th>0</th>\n",
              "      <td>Liver</td>\n",
              "    </tr>\n",
              "    <tr>\n",
              "      <th>1</th>\n",
              "      <td>Brain</td>\n",
              "    </tr>\n",
              "    <tr>\n",
              "      <th>2</th>\n",
              "      <td>Testes</td>\n",
              "    </tr>\n",
              "    <tr>\n",
              "      <th>3</th>\n",
              "      <td>Muscle</td>\n",
              "    </tr>\n",
              "    <tr>\n",
              "      <th>4</th>\n",
              "      <td>Intestine</td>\n",
              "    </tr>\n",
              "    <tr>\n",
              "      <th>5</th>\n",
              "      <td>Heart</td>\n",
              "    </tr>\n",
              "  </tbody>\n",
              "</table>\n",
              "</div>"
            ],
            "text/plain": [
              "      tissue\n",
              "0      Liver\n",
              "1      Brain\n",
              "2     Testes\n",
              "3     Muscle\n",
              "4  Intestine\n",
              "5      Heart"
            ]
          },
          "metadata": {
            "tags": []
          },
          "execution_count": 126
        }
      ]
    },
    {
      "cell_type": "code",
      "metadata": {
        "id": "mWsGqZkDeFex",
        "outputId": "1f08f1a4-4871-4b97-9b29-6bc2155aed72",
        "colab": {
          "base_uri": "https://localhost:8080/",
          "height": 143
        }
      },
      "source": [
        "foo_df.tissue"
      ],
      "execution_count": null,
      "outputs": [
        {
          "output_type": "execute_result",
          "data": {
            "text/plain": [
              "0        Liver\n",
              "1        Brain\n",
              "2       Testes\n",
              "3       Muscle\n",
              "4    Intestine\n",
              "5        Heart\n",
              "Name: tissue, dtype: object"
            ]
          },
          "metadata": {
            "tags": []
          },
          "execution_count": 127
        }
      ]
    },
    {
      "cell_type": "markdown",
      "metadata": {
        "id": "1rT0C68meMr8"
      },
      "source": [
        "index position as number with `.iloc[]`"
      ]
    },
    {
      "cell_type": "code",
      "metadata": {
        "id": "7QjivBo5eMEY",
        "outputId": "de288380-1818-4b0c-c1fa-2ff9738e4142",
        "colab": {
          "base_uri": "https://localhost:8080/",
          "height": 107
        }
      },
      "source": [
        "# First row, as a Series\n",
        "foo_df.iloc[0] "
      ],
      "execution_count": null,
      "outputs": [
        {
          "output_type": "execute_result",
          "data": {
            "text/plain": [
              "healthy      True\n",
              "tissue      Liver\n",
              "quantity       13\n",
              "new             0\n",
              "Name: 0, dtype: object"
            ]
          },
          "metadata": {
            "tags": []
          },
          "execution_count": 128
        }
      ]
    },
    {
      "cell_type": "code",
      "metadata": {
        "id": "ZtKeZEMmeZWd",
        "outputId": "01d564ac-44ec-4db5-e733-c1155e283fc1",
        "colab": {
          "base_uri": "https://localhost:8080/",
          "height": 79
        }
      },
      "source": [
        "# First row, as a DataFrame\n",
        "foo_df.iloc[[0]] "
      ],
      "execution_count": null,
      "outputs": [
        {
          "output_type": "execute_result",
          "data": {
            "text/html": [
              "<div>\n",
              "<style scoped>\n",
              "    .dataframe tbody tr th:only-of-type {\n",
              "        vertical-align: middle;\n",
              "    }\n",
              "\n",
              "    .dataframe tbody tr th {\n",
              "        vertical-align: top;\n",
              "    }\n",
              "\n",
              "    .dataframe thead th {\n",
              "        text-align: right;\n",
              "    }\n",
              "</style>\n",
              "<table border=\"1\" class=\"dataframe\">\n",
              "  <thead>\n",
              "    <tr style=\"text-align: right;\">\n",
              "      <th></th>\n",
              "      <th>healthy</th>\n",
              "      <th>tissue</th>\n",
              "      <th>quantity</th>\n",
              "      <th>new</th>\n",
              "    </tr>\n",
              "  </thead>\n",
              "  <tbody>\n",
              "    <tr>\n",
              "      <th>0</th>\n",
              "      <td>True</td>\n",
              "      <td>Liver</td>\n",
              "      <td>13</td>\n",
              "      <td>0</td>\n",
              "    </tr>\n",
              "  </tbody>\n",
              "</table>\n",
              "</div>"
            ],
            "text/plain": [
              "   healthy tissue  quantity  new\n",
              "0     True  Liver        13    0"
            ]
          },
          "metadata": {
            "tags": []
          },
          "execution_count": 129
        }
      ]
    },
    {
      "cell_type": "code",
      "metadata": {
        "id": "dXcLRq9Kel2S",
        "outputId": "324b7d31-1e2e-4116-d206-73c3891e94a9",
        "colab": {
          "base_uri": "https://localhost:8080/",
          "height": 110
        }
      },
      "source": [
        "foo_df.iloc[[0, 1]] "
      ],
      "execution_count": null,
      "outputs": [
        {
          "output_type": "execute_result",
          "data": {
            "text/html": [
              "<div>\n",
              "<style scoped>\n",
              "    .dataframe tbody tr th:only-of-type {\n",
              "        vertical-align: middle;\n",
              "    }\n",
              "\n",
              "    .dataframe tbody tr th {\n",
              "        vertical-align: top;\n",
              "    }\n",
              "\n",
              "    .dataframe thead th {\n",
              "        text-align: right;\n",
              "    }\n",
              "</style>\n",
              "<table border=\"1\" class=\"dataframe\">\n",
              "  <thead>\n",
              "    <tr style=\"text-align: right;\">\n",
              "      <th></th>\n",
              "      <th>healthy</th>\n",
              "      <th>tissue</th>\n",
              "      <th>quantity</th>\n",
              "      <th>new</th>\n",
              "    </tr>\n",
              "  </thead>\n",
              "  <tbody>\n",
              "    <tr>\n",
              "      <th>0</th>\n",
              "      <td>True</td>\n",
              "      <td>Liver</td>\n",
              "      <td>13</td>\n",
              "      <td>0</td>\n",
              "    </tr>\n",
              "    <tr>\n",
              "      <th>1</th>\n",
              "      <td>False</td>\n",
              "      <td>Brain</td>\n",
              "      <td>88</td>\n",
              "      <td>0</td>\n",
              "    </tr>\n",
              "  </tbody>\n",
              "</table>\n",
              "</div>"
            ],
            "text/plain": [
              "   healthy tissue  quantity  new\n",
              "0     True  Liver        13    0\n",
              "1    False  Brain        88    0"
            ]
          },
          "metadata": {
            "tags": []
          },
          "execution_count": 130
        }
      ]
    },
    {
      "cell_type": "markdown",
      "metadata": {
        "id": "faNv8oSDeyz8"
      },
      "source": [
        "Using two dimensions:"
      ]
    },
    {
      "cell_type": "code",
      "metadata": {
        "id": "CC4q4YLaex0Y",
        "outputId": "3915cef6-3a79-442d-e4cb-f426dea4729b",
        "colab": {
          "base_uri": "https://localhost:8080/",
          "height": 107
        }
      },
      "source": [
        "# To get all columns, use : after the comma\n",
        "foo_df.iloc[0,:] # : == everything "
      ],
      "execution_count": null,
      "outputs": [
        {
          "output_type": "execute_result",
          "data": {
            "text/plain": [
              "healthy      True\n",
              "tissue      Liver\n",
              "quantity       13\n",
              "new             0\n",
              "Name: 0, dtype: object"
            ]
          },
          "metadata": {
            "tags": []
          },
          "execution_count": 131
        }
      ]
    },
    {
      "cell_type": "code",
      "metadata": {
        "id": "LK3wM-PlfM3g"
      },
      "source": [
        "# Valid\n",
        "# foo_df.iloc[0,]"
      ],
      "execution_count": null,
      "outputs": []
    },
    {
      "cell_type": "markdown",
      "metadata": {
        "id": "tgCP9N-ofZgy"
      },
      "source": [
        "Indexing begins at 0 and is _exclusive_"
      ]
    },
    {
      "cell_type": "code",
      "metadata": {
        "id": "H9TViCT0fZ9v",
        "outputId": "225f848f-1309-4566-99b1-b719b125a779",
        "colab": {
          "base_uri": "https://localhost:8080/",
          "height": 233
        }
      },
      "source": [
        "# The first two columns, all rows\n",
        "foo_df.iloc[:,:2] # 0, 1, and exclude 2"
      ],
      "execution_count": null,
      "outputs": [
        {
          "output_type": "execute_result",
          "data": {
            "text/html": [
              "<div>\n",
              "<style scoped>\n",
              "    .dataframe tbody tr th:only-of-type {\n",
              "        vertical-align: middle;\n",
              "    }\n",
              "\n",
              "    .dataframe tbody tr th {\n",
              "        vertical-align: top;\n",
              "    }\n",
              "\n",
              "    .dataframe thead th {\n",
              "        text-align: right;\n",
              "    }\n",
              "</style>\n",
              "<table border=\"1\" class=\"dataframe\">\n",
              "  <thead>\n",
              "    <tr style=\"text-align: right;\">\n",
              "      <th></th>\n",
              "      <th>healthy</th>\n",
              "      <th>tissue</th>\n",
              "    </tr>\n",
              "  </thead>\n",
              "  <tbody>\n",
              "    <tr>\n",
              "      <th>0</th>\n",
              "      <td>True</td>\n",
              "      <td>Liver</td>\n",
              "    </tr>\n",
              "    <tr>\n",
              "      <th>1</th>\n",
              "      <td>False</td>\n",
              "      <td>Brain</td>\n",
              "    </tr>\n",
              "    <tr>\n",
              "      <th>2</th>\n",
              "      <td>False</td>\n",
              "      <td>Testes</td>\n",
              "    </tr>\n",
              "    <tr>\n",
              "      <th>3</th>\n",
              "      <td>True</td>\n",
              "      <td>Muscle</td>\n",
              "    </tr>\n",
              "    <tr>\n",
              "      <th>4</th>\n",
              "      <td>True</td>\n",
              "      <td>Intestine</td>\n",
              "    </tr>\n",
              "    <tr>\n",
              "      <th>5</th>\n",
              "      <td>False</td>\n",
              "      <td>Heart</td>\n",
              "    </tr>\n",
              "  </tbody>\n",
              "</table>\n",
              "</div>"
            ],
            "text/plain": [
              "   healthy     tissue\n",
              "0     True      Liver\n",
              "1    False      Brain\n",
              "2    False     Testes\n",
              "3     True     Muscle\n",
              "4     True  Intestine\n",
              "5    False      Heart"
            ]
          },
          "metadata": {
            "tags": []
          },
          "execution_count": 133
        }
      ]
    },
    {
      "cell_type": "code",
      "metadata": {
        "id": "L-Dehf4pgWIu",
        "outputId": "c35c5601-800d-49eb-9e1b-261b2758dc12",
        "colab": {
          "base_uri": "https://localhost:8080/",
          "height": 143
        }
      },
      "source": [
        "# One column as a Series\n",
        "foo_df.iloc[:,1]"
      ],
      "execution_count": null,
      "outputs": [
        {
          "output_type": "execute_result",
          "data": {
            "text/plain": [
              "0        Liver\n",
              "1        Brain\n",
              "2       Testes\n",
              "3       Muscle\n",
              "4    Intestine\n",
              "5        Heart\n",
              "Name: tissue, dtype: object"
            ]
          },
          "metadata": {
            "tags": []
          },
          "execution_count": 134
        }
      ]
    },
    {
      "cell_type": "code",
      "metadata": {
        "id": "Ox9LGhIegeV7",
        "outputId": "4b79924f-98ee-41cd-9a0e-b76e5e0a6b1e",
        "colab": {
          "base_uri": "https://localhost:8080/",
          "height": 233
        }
      },
      "source": [
        "# The same, as a DataFrame\n",
        "foo_df.iloc[:,1:2]"
      ],
      "execution_count": null,
      "outputs": [
        {
          "output_type": "execute_result",
          "data": {
            "text/html": [
              "<div>\n",
              "<style scoped>\n",
              "    .dataframe tbody tr th:only-of-type {\n",
              "        vertical-align: middle;\n",
              "    }\n",
              "\n",
              "    .dataframe tbody tr th {\n",
              "        vertical-align: top;\n",
              "    }\n",
              "\n",
              "    .dataframe thead th {\n",
              "        text-align: right;\n",
              "    }\n",
              "</style>\n",
              "<table border=\"1\" class=\"dataframe\">\n",
              "  <thead>\n",
              "    <tr style=\"text-align: right;\">\n",
              "      <th></th>\n",
              "      <th>tissue</th>\n",
              "    </tr>\n",
              "  </thead>\n",
              "  <tbody>\n",
              "    <tr>\n",
              "      <th>0</th>\n",
              "      <td>Liver</td>\n",
              "    </tr>\n",
              "    <tr>\n",
              "      <th>1</th>\n",
              "      <td>Brain</td>\n",
              "    </tr>\n",
              "    <tr>\n",
              "      <th>2</th>\n",
              "      <td>Testes</td>\n",
              "    </tr>\n",
              "    <tr>\n",
              "      <th>3</th>\n",
              "      <td>Muscle</td>\n",
              "    </tr>\n",
              "    <tr>\n",
              "      <th>4</th>\n",
              "      <td>Intestine</td>\n",
              "    </tr>\n",
              "    <tr>\n",
              "      <th>5</th>\n",
              "      <td>Heart</td>\n",
              "    </tr>\n",
              "  </tbody>\n",
              "</table>\n",
              "</div>"
            ],
            "text/plain": [
              "      tissue\n",
              "0      Liver\n",
              "1      Brain\n",
              "2     Testes\n",
              "3     Muscle\n",
              "4  Intestine\n",
              "5      Heart"
            ]
          },
          "metadata": {
            "tags": []
          },
          "execution_count": 135
        }
      ]
    },
    {
      "cell_type": "code",
      "metadata": {
        "id": "wL_i3XhAg-IM",
        "outputId": "0c567553-efc0-4408-a593-e662d6918282",
        "colab": {
          "base_uri": "https://localhost:8080/",
          "height": 107
        }
      },
      "source": [
        "# counting from the opposite direction\n",
        "# -1 is the last row\n",
        "foo_df.iloc[-1,]\n",
        "# forward: 0  1  2  3  4  5\n",
        "# Reverse -6 -5 -4 -3 -2 -1"
      ],
      "execution_count": null,
      "outputs": [
        {
          "output_type": "execute_result",
          "data": {
            "text/plain": [
              "healthy     False\n",
              "tissue      Heart\n",
              "quantity       18\n",
              "new             0\n",
              "Name: 5, dtype: object"
            ]
          },
          "metadata": {
            "tags": []
          },
          "execution_count": 136
        }
      ]
    },
    {
      "cell_type": "code",
      "metadata": {
        "id": "KlrK6Ni2hEhK",
        "outputId": "275b4545-22c6-4754-939a-cda4a5796951",
        "colab": {
          "base_uri": "https://localhost:8080/",
          "height": 233
        }
      },
      "source": [
        "foo_df"
      ],
      "execution_count": null,
      "outputs": [
        {
          "output_type": "execute_result",
          "data": {
            "text/html": [
              "<div>\n",
              "<style scoped>\n",
              "    .dataframe tbody tr th:only-of-type {\n",
              "        vertical-align: middle;\n",
              "    }\n",
              "\n",
              "    .dataframe tbody tr th {\n",
              "        vertical-align: top;\n",
              "    }\n",
              "\n",
              "    .dataframe thead th {\n",
              "        text-align: right;\n",
              "    }\n",
              "</style>\n",
              "<table border=\"1\" class=\"dataframe\">\n",
              "  <thead>\n",
              "    <tr style=\"text-align: right;\">\n",
              "      <th></th>\n",
              "      <th>healthy</th>\n",
              "      <th>tissue</th>\n",
              "      <th>quantity</th>\n",
              "      <th>new</th>\n",
              "    </tr>\n",
              "  </thead>\n",
              "  <tbody>\n",
              "    <tr>\n",
              "      <th>0</th>\n",
              "      <td>True</td>\n",
              "      <td>Liver</td>\n",
              "      <td>13</td>\n",
              "      <td>0</td>\n",
              "    </tr>\n",
              "    <tr>\n",
              "      <th>1</th>\n",
              "      <td>False</td>\n",
              "      <td>Brain</td>\n",
              "      <td>88</td>\n",
              "      <td>0</td>\n",
              "    </tr>\n",
              "    <tr>\n",
              "      <th>2</th>\n",
              "      <td>False</td>\n",
              "      <td>Testes</td>\n",
              "      <td>1233</td>\n",
              "      <td>0</td>\n",
              "    </tr>\n",
              "    <tr>\n",
              "      <th>3</th>\n",
              "      <td>True</td>\n",
              "      <td>Muscle</td>\n",
              "      <td>55</td>\n",
              "      <td>0</td>\n",
              "    </tr>\n",
              "    <tr>\n",
              "      <th>4</th>\n",
              "      <td>True</td>\n",
              "      <td>Intestine</td>\n",
              "      <td>233</td>\n",
              "      <td>0</td>\n",
              "    </tr>\n",
              "    <tr>\n",
              "      <th>5</th>\n",
              "      <td>False</td>\n",
              "      <td>Heart</td>\n",
              "      <td>18</td>\n",
              "      <td>0</td>\n",
              "    </tr>\n",
              "  </tbody>\n",
              "</table>\n",
              "</div>"
            ],
            "text/plain": [
              "   healthy     tissue  quantity  new\n",
              "0     True      Liver        13    0\n",
              "1    False      Brain        88    0\n",
              "2    False     Testes      1233    0\n",
              "3     True     Muscle        55    0\n",
              "4     True  Intestine       233    0\n",
              "5    False      Heart        18    0"
            ]
          },
          "metadata": {
            "tags": []
          },
          "execution_count": 137
        }
      ]
    },
    {
      "cell_type": "code",
      "metadata": {
        "id": "4pURflAri_5-",
        "outputId": "b51a9839-d6a3-4478-ae56-15cd33492082",
        "colab": {
          "base_uri": "https://localhost:8080/",
          "height": 297
        }
      },
      "source": [
        "foo_df.reverse()"
      ],
      "execution_count": null,
      "outputs": [
        {
          "output_type": "error",
          "ename": "AttributeError",
          "evalue": "ignored",
          "traceback": [
            "\u001b[0;31m---------------------------------------------------------------------------\u001b[0m",
            "\u001b[0;31mAttributeError\u001b[0m                            Traceback (most recent call last)",
            "\u001b[0;32m<ipython-input-138-f243fb53f12f>\u001b[0m in \u001b[0;36m<module>\u001b[0;34m()\u001b[0m\n\u001b[0;32m----> 1\u001b[0;31m \u001b[0mfoo_df\u001b[0m\u001b[0;34m.\u001b[0m\u001b[0mreverse\u001b[0m\u001b[0;34m(\u001b[0m\u001b[0;34m)\u001b[0m\u001b[0;34m\u001b[0m\u001b[0;34m\u001b[0m\u001b[0m\n\u001b[0m",
            "\u001b[0;32m/usr/local/lib/python3.6/dist-packages/pandas/core/generic.py\u001b[0m in \u001b[0;36m__getattr__\u001b[0;34m(self, name)\u001b[0m\n\u001b[1;32m   5137\u001b[0m             \u001b[0;32mif\u001b[0m \u001b[0mself\u001b[0m\u001b[0;34m.\u001b[0m\u001b[0m_info_axis\u001b[0m\u001b[0;34m.\u001b[0m\u001b[0m_can_hold_identifiers_and_holds_name\u001b[0m\u001b[0;34m(\u001b[0m\u001b[0mname\u001b[0m\u001b[0;34m)\u001b[0m\u001b[0;34m:\u001b[0m\u001b[0;34m\u001b[0m\u001b[0;34m\u001b[0m\u001b[0m\n\u001b[1;32m   5138\u001b[0m                 \u001b[0;32mreturn\u001b[0m \u001b[0mself\u001b[0m\u001b[0;34m[\u001b[0m\u001b[0mname\u001b[0m\u001b[0;34m]\u001b[0m\u001b[0;34m\u001b[0m\u001b[0;34m\u001b[0m\u001b[0m\n\u001b[0;32m-> 5139\u001b[0;31m             \u001b[0;32mreturn\u001b[0m \u001b[0mobject\u001b[0m\u001b[0;34m.\u001b[0m\u001b[0m__getattribute__\u001b[0m\u001b[0;34m(\u001b[0m\u001b[0mself\u001b[0m\u001b[0;34m,\u001b[0m \u001b[0mname\u001b[0m\u001b[0;34m)\u001b[0m\u001b[0;34m\u001b[0m\u001b[0;34m\u001b[0m\u001b[0m\n\u001b[0m\u001b[1;32m   5140\u001b[0m \u001b[0;34m\u001b[0m\u001b[0m\n\u001b[1;32m   5141\u001b[0m     \u001b[0;32mdef\u001b[0m \u001b[0m__setattr__\u001b[0m\u001b[0;34m(\u001b[0m\u001b[0mself\u001b[0m\u001b[0;34m,\u001b[0m \u001b[0mname\u001b[0m\u001b[0;34m:\u001b[0m \u001b[0mstr\u001b[0m\u001b[0;34m,\u001b[0m \u001b[0mvalue\u001b[0m\u001b[0;34m)\u001b[0m \u001b[0;34m->\u001b[0m \u001b[0;32mNone\u001b[0m\u001b[0;34m:\u001b[0m\u001b[0;34m\u001b[0m\u001b[0;34m\u001b[0m\u001b[0m\n",
            "\u001b[0;31mAttributeError\u001b[0m: 'DataFrame' object has no attribute 'reverse'"
          ]
        }
      ]
    },
    {
      "cell_type": "markdown",
      "metadata": {
        "id": "2aeeuzGKhtSM"
      },
      "source": [
        "**Exercise 5.1**\n",
        "\n",
        "Using foo_df, retreive:"
      ]
    },
    {
      "cell_type": "markdown",
      "metadata": {
        "id": "3gkgEit5hwxK"
      },
      "source": [
        "The 2nd to 3rd rows"
      ]
    },
    {
      "cell_type": "code",
      "metadata": {
        "id": "I2GC1DSZh5eN"
      },
      "source": [
        "# foo_df.iloc[2:3, :] # only the 3rd row\n",
        "# foo_df.iloc[[2,3],:] # the 3rd & the 4th row using a list\n",
        "# foo_df.iloc[2:4] # the 3rd & the 4th row using : notation\n",
        "# foo_df.iloc[0:2,]  # 1st & 2nd rows\n",
        "# foo_df[-1:2,:] # Computer says \"no\"\n",
        "# foo_df.iloc[3:,:] # 4th to the end \n",
        "\n",
        "# yes :)\n",
        "foo_df.iloc[[1, 2]]  # 2nd & 3rd rows using a list\n",
        "# foo_df.iloc[1:3,:] # 2nd & 3rd rows using : notation\n"
      ],
      "execution_count": null,
      "outputs": []
    },
    {
      "cell_type": "markdown",
      "metadata": {
        "id": "jxYgpqoNh6N3"
      },
      "source": [
        "The last 2 rows"
      ]
    },
    {
      "cell_type": "code",
      "metadata": {
        "id": "cB4goDSyh77X"
      },
      "source": [
        "foo_df[-2:]"
      ],
      "execution_count": null,
      "outputs": []
    },
    {
      "cell_type": "code",
      "metadata": {
        "id": "9M3rZijiuCrf"
      },
      "source": [
        "# The last two no matter how long\n",
        "foo_df.iloc[-2:]\n",
        "# foo_df.iloc[[-1,-2],:] # specify the order with a list"
      ],
      "execution_count": null,
      "outputs": []
    },
    {
      "cell_type": "code",
      "metadata": {
        "id": "tEymDaMuuNHS"
      },
      "source": [
        "# Hard coding positions\n",
        "# foo_df.iloc[ [4, 5],:]\n",
        "# foo_df.iloc[4:,:] "
      ],
      "execution_count": null,
      "outputs": []
    },
    {
      "cell_type": "markdown",
      "metadata": {
        "id": "khTgYvgIh8PH"
      },
      "source": [
        "A random row in foo_df"
      ]
    },
    {
      "cell_type": "code",
      "metadata": {
        "id": "ybcMSquchwE8"
      },
      "source": [
        "# import random\n",
        "# foo_df.iloc[[random.randrange(0, len(foo_df))]]\n",
        "foo_df.sample()"
      ],
      "execution_count": null,
      "outputs": []
    },
    {
      "cell_type": "markdown",
      "metadata": {
        "id": "Ltv6VFJgh-Wl"
      },
      "source": [
        "From the 4th to the last row\n",
        "(But without hard-coding, i.e. regardless of how many rows my data frame contains)"
      ]
    },
    {
      "cell_type": "code",
      "metadata": {
        "id": "MLMO1tnEh-9Z"
      },
      "source": [
        "# foo_df[3:]\n",
        "foo_df.iloc[3:,:]\n"
      ],
      "execution_count": null,
      "outputs": []
    },
    {
      "cell_type": "markdown",
      "metadata": {
        "id": "-f9j1cpjtcAx"
      },
      "source": [
        "** Exercise 5.2**\n",
        "\n",
        "Using `.iloc()` with:\n",
        "\n"
      ]
    },
    {
      "cell_type": "code",
      "metadata": {
        "id": "OOIlwxArtoBJ"
      },
      "source": [
        "# Integers? yes :)\n",
        "foo_df.iloc[4,]\n"
      ],
      "execution_count": null,
      "outputs": []
    },
    {
      "cell_type": "code",
      "metadata": {
        "id": "pr4GRZZDtssU"
      },
      "source": [
        "# Floats? Computer says no\n",
        "# foo_df[0.1:]"
      ],
      "execution_count": null,
      "outputs": []
    },
    {
      "cell_type": "code",
      "metadata": {
        "id": "dK5Tthd7tt9H"
      },
      "source": [
        "# Strings (Characters)? Computer says \"no\"\n",
        "# foo_df.iloc[:,'tissue']\n",
        "# foo_df.iloc['Brain'] # need to look inside the tissue column\n",
        "# foo_df.iloc['A'] # No is no 'A' anyways\n",
        "# foo_df[heart:]   # No object defined "
      ],
      "execution_count": null,
      "outputs": []
    },
    {
      "cell_type": "code",
      "metadata": {
        "id": "KpLxJCpGtvT4"
      },
      "source": [
        "# A heterogenous list? Computer says \"no\"\n",
        "# foo_df.iloc[:,[1, 'quantity']]\n",
        "\n"
      ],
      "execution_count": null,
      "outputs": []
    },
    {
      "cell_type": "code",
      "metadata": {
        "id": "u2C8n_t0twdu"
      },
      "source": [
        "# A homogenous list?\n",
        "foo_df.iloc[[1,4,-1,-1,3,2,0]]\n"
      ],
      "execution_count": null,
      "outputs": []
    },
    {
      "cell_type": "markdown",
      "metadata": {
        "id": "1ULmqL8kwvKb"
      },
      "source": [
        "**Exercise 5.3**"
      ]
    },
    {
      "cell_type": "markdown",
      "metadata": {
        "id": "CpJp83Oxyh3C"
      },
      "source": [
        "Use indexing to obtain all the odd rows\n"
      ]
    },
    {
      "cell_type": "code",
      "metadata": {
        "id": "-2nfrIm6yspg"
      },
      "source": [
        "foo_df.iloc[1::2] # 2nd, 4th, 6th"
      ],
      "execution_count": null,
      "outputs": []
    },
    {
      "cell_type": "code",
      "metadata": {
        "id": "K12HmWe20_AT"
      },
      "source": [
        "foo_df.iloc[lambda x: x.index % 2 == 1]"
      ],
      "execution_count": null,
      "outputs": []
    },
    {
      "cell_type": "code",
      "metadata": {
        "id": "IFvBy59E1dyX"
      },
      "source": [
        "foo_df[foo_df.index % 2 != 0]"
      ],
      "execution_count": null,
      "outputs": []
    },
    {
      "cell_type": "markdown",
      "metadata": {
        "id": "ZKy9mWyqyq-u"
      },
      "source": [
        "Use indexing to obtain all the even rows"
      ]
    },
    {
      "cell_type": "code",
      "metadata": {
        "id": "n4uRY4k5ytHu"
      },
      "source": [
        "foo_df.iloc[::2] # 1st, 3rd, 5th"
      ],
      "execution_count": null,
      "outputs": []
    },
    {
      "cell_type": "code",
      "metadata": {
        "id": "2tIb9FYx1Oey"
      },
      "source": [
        "foo_df.iloc[lambda x: x.index % 2 == 0]"
      ],
      "execution_count": null,
      "outputs": []
    },
    {
      "cell_type": "markdown",
      "metadata": {
        "id": "Bt8bQQ_S1zTW"
      },
      "source": [
        "# Logical Expressions\n",
        "\n",
        "Relational and logical operators"
      ]
    },
    {
      "cell_type": "code",
      "metadata": {
        "id": "EZreeLnZ2LOi"
      },
      "source": [
        "foo_df[foo_df.quantity >= 233]"
      ],
      "execution_count": null,
      "outputs": []
    },
    {
      "cell_type": "code",
      "metadata": {
        "id": "OuSxIRRf2T_t"
      },
      "source": [
        "foo_df[(foo_df.tissue == \"Heart\") | (foo_df.quantity >= 233)]"
      ],
      "execution_count": null,
      "outputs": []
    },
    {
      "cell_type": "markdown",
      "metadata": {
        "id": "ENRJOaEg22Rb"
      },
      "source": [
        "**Exercise 5.4**\n",
        "\n",
        "Only “healthy” samples.\n"
      ]
    },
    {
      "cell_type": "code",
      "metadata": {
        "id": "yleRlep63K7z"
      },
      "source": [
        "foo_df[foo_df.healthy]\n"
      ],
      "execution_count": null,
      "outputs": []
    },
    {
      "cell_type": "markdown",
      "metadata": {
        "id": "WhVeoHQS26-n"
      },
      "source": [
        "Only “unhealthy” samples.\n"
      ]
    },
    {
      "cell_type": "code",
      "metadata": {
        "id": "IbQY6Ui43Len"
      },
      "source": [
        "foo_df[-foo_df.healthy] \n"
      ],
      "execution_count": null,
      "outputs": []
    },
    {
      "cell_type": "code",
      "metadata": {
        "id": "_tEpQKJW4WBy"
      },
      "source": [
        "foo_df[~foo_df.healthy] \n"
      ],
      "execution_count": null,
      "outputs": []
    },
    {
      "cell_type": "markdown",
      "metadata": {
        "id": "jdNQD1i_28HZ"
      },
      "source": [
        "**Exercise 5.5**\n",
        "\n",
        "\n",
        "Only low quantity samples, those below 100."
      ]
    },
    {
      "cell_type": "code",
      "metadata": {
        "id": "CAuRnYc_3hFl"
      },
      "source": [
        ""
      ],
      "execution_count": null,
      "outputs": []
    },
    {
      "cell_type": "markdown",
      "metadata": {
        "id": "4XW2JDsQ3C92"
      },
      "source": [
        "Midrange: Quantity between 100 and 1000,\n"
      ]
    },
    {
      "cell_type": "code",
      "metadata": {
        "id": "WaEL26P13gru"
      },
      "source": [
        ""
      ],
      "execution_count": null,
      "outputs": []
    },
    {
      "cell_type": "markdown",
      "metadata": {
        "id": "zyarLo_x3EFa"
      },
      "source": [
        "Tails of the distribution: Quantity below 100 and beyond 1000.\n"
      ]
    },
    {
      "cell_type": "code",
      "metadata": {
        "id": "wm0DxtDV3gSI"
      },
      "source": [
        ""
      ],
      "execution_count": null,
      "outputs": []
    },
    {
      "cell_type": "markdown",
      "metadata": {
        "id": "sIRAl8653FIi"
      },
      "source": [
        "**Exercise 5.6**\n",
        "\n",
        "Only “Heart” samples."
      ]
    },
    {
      "cell_type": "code",
      "metadata": {
        "id": "VQk14r1T3fuy"
      },
      "source": [
        ""
      ],
      "execution_count": null,
      "outputs": []
    },
    {
      "cell_type": "markdown",
      "metadata": {
        "id": "OUxjcaJH3IYh"
      },
      "source": [
        "“Heart” and “liver” samples\n"
      ]
    },
    {
      "cell_type": "code",
      "metadata": {
        "id": "FkSPZ0RM3MpK"
      },
      "source": [
        ""
      ],
      "execution_count": null,
      "outputs": []
    },
    {
      "cell_type": "markdown",
      "metadata": {
        "id": "JcDYOhf13Jku"
      },
      "source": [
        "Everything except “intestines”\n"
      ]
    },
    {
      "cell_type": "code",
      "metadata": {
        "id": "6WnDvENh3MNG"
      },
      "source": [
        ""
      ],
      "execution_count": null,
      "outputs": []
    }
  ]
}