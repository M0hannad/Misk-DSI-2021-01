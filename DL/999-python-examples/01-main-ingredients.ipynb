{
 "cells": [
  {
   "cell_type": "markdown",
   "id": "4adcc3b7-b375-4a0b-9988-e92f95b3fdcc",
   "metadata": {},
   "source": [
    "# Main Ingredients\n",
    "\n",
    "Now that you have learned many of the fundamental procedures executed in deep learning models, the notebooks that follow will provide various examples using the Python API. These notebooks are designed to closely mirror the R notebooks provided throughout the class. For example, this notebook mirrors the https://misk-data-science.github.io/misk-dl/notebooks/01-main-ingredients.nb.html notebook."
   ]
  },
  {
   "cell_type": "markdown",
   "id": "90236dfe-a922-4754-a3e5-51f26ccd3701",
   "metadata": {},
   "source": [
    "## Package Requirements"
   ]
  },
  {
   "cell_type": "code",
   "execution_count": 1,
   "id": "37dba5d4-81fe-4fbe-95c2-b358dd3b44a6",
   "metadata": {},
   "outputs": [],
   "source": [
    "# utility packages\n",
    "import random\n",
    "import matplotlib.pyplot as plt\n",
    "import numpy as np\n",
    "import pandas as pd\n",
    "\n",
    "# modeling packages\n",
    "from sklearn.linear_model import LinearRegression\n",
    "from sklearn.metrics import mean_squared_error\n",
    "from sklearn.datasets import make_blobs\n",
    "from tensorflow.keras.models import Sequential\n",
    "from tensorflow.keras.layers import Dense\n",
    "from tensorflow.keras.optimizers import SGD\n",
    "from tensorflow.keras import utils"
   ]
  },
  {
   "cell_type": "markdown",
   "id": "d2e2a605-3c86-4ced-bc45-6432c24a4898",
   "metadata": {},
   "source": [
    "## Simple Linear Regression"
   ]
  },
  {
   "cell_type": "code",
   "execution_count": 2,
   "id": "9b0d088c-d870-448d-8a9a-5a19365e3158",
   "metadata": {},
   "outputs": [],
   "source": [
    "n = 1000   # n observations\n",
    "b = 30     # intercept\n",
    "a = 5      # slope"
   ]
  },
  {
   "cell_type": "code",
   "execution_count": 3,
   "id": "a9bbecf5-5691-46e7-9a1a-08e1df884629",
   "metadata": {},
   "outputs": [
    {
     "data": {
      "text/html": [
       "<div>\n",
       "<style scoped>\n",
       "    .dataframe tbody tr th:only-of-type {\n",
       "        vertical-align: middle;\n",
       "    }\n",
       "\n",
       "    .dataframe tbody tr th {\n",
       "        vertical-align: top;\n",
       "    }\n",
       "\n",
       "    .dataframe thead th {\n",
       "        text-align: right;\n",
       "    }\n",
       "</style>\n",
       "<table border=\"1\" class=\"dataframe\">\n",
       "  <thead>\n",
       "    <tr style=\"text-align: right;\">\n",
       "      <th></th>\n",
       "      <th>X</th>\n",
       "      <th>y</th>\n",
       "    </tr>\n",
       "  </thead>\n",
       "  <tbody>\n",
       "    <tr>\n",
       "      <th>0</th>\n",
       "      <td>-0.895273</td>\n",
       "      <td>24.651331</td>\n",
       "    </tr>\n",
       "    <tr>\n",
       "      <th>1</th>\n",
       "      <td>-0.825627</td>\n",
       "      <td>26.812954</td>\n",
       "    </tr>\n",
       "    <tr>\n",
       "      <th>2</th>\n",
       "      <td>-0.185516</td>\n",
       "      <td>29.257534</td>\n",
       "    </tr>\n",
       "    <tr>\n",
       "      <th>3</th>\n",
       "      <td>-0.784600</td>\n",
       "      <td>26.488911</td>\n",
       "    </tr>\n",
       "    <tr>\n",
       "      <th>4</th>\n",
       "      <td>0.802398</td>\n",
       "      <td>34.809165</td>\n",
       "    </tr>\n",
       "  </tbody>\n",
       "</table>\n",
       "</div>"
      ],
      "text/plain": [
       "          X          y\n",
       "0 -0.895273  24.651331\n",
       "1 -0.825627  26.812954\n",
       "2 -0.185516  29.257534\n",
       "3 -0.784600  26.488911\n",
       "4  0.802398  34.809165"
      ]
     },
     "execution_count": 3,
     "metadata": {},
     "output_type": "execute_result"
    }
   ],
   "source": [
    "random.seed(123)\n",
    "X = [random.uniform(-1, 1) for ob in range(n)]\n",
    "y = [b + a*ob + random.uniform(-1, 1) for ob in X]\n",
    "\n",
    "df = pd.DataFrame({'X': X, 'y': y})\n",
    "df.head()"
   ]
  },
  {
   "cell_type": "code",
   "execution_count": 4,
   "id": "22b3319c-ec17-4918-9030-e128582d8bc0",
   "metadata": {},
   "outputs": [
    {
     "data": {
      "text/plain": [
       "<AxesSubplot:xlabel='X', ylabel='y'>"
      ]
     },
     "execution_count": 4,
     "metadata": {},
     "output_type": "execute_result"
    },
    {
     "data": {
      "image/png": "[encoded data removed]",
      "text/plain": [
       "<Figure size 432x288 with 1 Axes>"
      ]
     },
     "metadata": {
      "needs_background": "light"
     },
     "output_type": "display_data"
    }
   ],
   "source": [
    "df.plot.scatter(x='X', y='y', s=1.5)"
   ]
  },
  {
   "cell_type": "code",
   "execution_count": 5,
   "id": "36839032-b41d-47c6-8604-a49a097cc9b1",
   "metadata": {
    "tags": []
   },
   "outputs": [
    {
     "name": "stdout",
     "output_type": "stream",
     "text": [
      "\n",
      "estimated intercept = [5.03266661]\n",
      "estimated slope = 29.99919365105621\n",
      "loss score = 0.3347023404237653\n",
      "\n"
     ]
    }
   ],
   "source": [
    "X = df[['X']]\n",
    "y = df['y']\n",
    "\n",
    "reg = LinearRegression().fit(X, y)\n",
    "\n",
    "print(f'''\n",
    "estimated intercept = {reg.coef_}\n",
    "estimated slope = {reg.intercept_}\n",
    "loss score = {mean_squared_error(y, reg.predict(X))}\n",
    "''')"
   ]
  },
  {
   "cell_type": "markdown",
   "id": "32f2c976-7dc2-484d-82c6-a99c04476ce0",
   "metadata": {
    "tags": []
   },
   "source": [
    "## Simple regression with a perceptron"
   ]
  },
  {
   "cell_type": "code",
   "execution_count": 6,
   "id": "0cec706c-6add-457f-ac42-f1ae78b46d75",
   "metadata": {},
   "outputs": [
    {
     "name": "stderr",
     "output_type": "stream",
     "text": [
      "2021-10-25 17:02:48.773802: I tensorflow/core/platform/cpu_feature_guard.cc:142] This TensorFlow binary is optimized with oneAPI Deep Neural Network Library (oneDNN) to use the following CPU instructions in performance-critical operations:  AVX2 FMA\n",
      "To enable them in other operations, rebuild TensorFlow with the appropriate compiler flags.\n"
     ]
    }
   ],
   "source": [
    "# define the keras model\n",
    "model = Sequential()\n",
    "model.add(Dense(units=1, input_dim=1))"
   ]
  },
  {
   "cell_type": "code",
   "execution_count": 7,
   "id": "7139d477-584a-4bc6-b793-dd2a24b2a594",
   "metadata": {},
   "outputs": [],
   "source": [
    "# compile the keras model\n",
    "model.compile(loss='mse', optimizer='sgd')"
   ]
  },
  {
   "cell_type": "code",
   "execution_count": 8,
   "id": "eb53bfe2-dad7-432c-91f7-be5c5afe3e41",
   "metadata": {},
   "outputs": [
    {
     "name": "stderr",
     "output_type": "stream",
     "text": [
      "2021-10-25 17:02:48.996194: I tensorflow/compiler/mlir/mlir_graph_optimization_pass.cc:185] None of the MLIR Optimization Passes are enabled (registered 2)\n"
     ]
    },
    {
     "name": "stdout",
     "output_type": "stream",
     "text": [
      "Epoch 1/15\n",
      "32/32 [==============================] - 0s 730us/step - loss: 526.6061\n",
      "Epoch 2/15\n",
      "32/32 [==============================] - 0s 621us/step - loss: 149.5764\n",
      "Epoch 3/15\n",
      "32/32 [==============================] - 0s 639us/step - loss: 44.6974\n",
      "Epoch 4/15\n",
      "32/32 [==============================] - 0s 587us/step - loss: 14.8156\n",
      "Epoch 5/15\n",
      "32/32 [==============================] - 0s 492us/step - loss: 5.6598\n",
      "Epoch 6/15\n",
      "32/32 [==============================] - 0s 734us/step - loss: 2.7052\n",
      "Epoch 7/15\n",
      "32/32 [==============================] - 0s 792us/step - loss: 1.5926\n",
      "Epoch 8/15\n",
      "32/32 [==============================] - 0s 647us/step - loss: 1.0801\n",
      "Epoch 9/15\n",
      "32/32 [==============================] - 0s 616us/step - loss: 0.8001\n",
      "Epoch 10/15\n",
      "32/32 [==============================] - 0s 649us/step - loss: 0.6336\n",
      "Epoch 11/15\n",
      "32/32 [==============================] - 0s 707us/step - loss: 0.5280\n",
      "Epoch 12/15\n",
      "32/32 [==============================] - 0s 654us/step - loss: 0.4605\n",
      "Epoch 13/15\n",
      "32/32 [==============================] - 0s 637us/step - loss: 0.4173\n",
      "Epoch 14/15\n",
      "32/32 [==============================] - 0s 569us/step - loss: 0.3888\n",
      "Epoch 15/15\n",
      "32/32 [==============================] - 0s 763us/step - loss: 0.3699\n"
     ]
    },
    {
     "data": {
      "text/plain": [
       "<keras.callbacks.History at 0x16a00bfd0>"
      ]
     },
     "execution_count": 8,
     "metadata": {},
     "output_type": "execute_result"
    }
   ],
   "source": [
    "# Fit the model\n",
    "model.fit(X, y, batch_size=32, epochs=15)"
   ]
  },
  {
   "cell_type": "code",
   "execution_count": 9,
   "id": "27970ea3-677b-4c02-80b2-5b5e8f2ae5b0",
   "metadata": {},
   "outputs": [
    {
     "data": {
      "text/plain": [
       "[array([[4.7456536]], dtype=float32), array([29.975908], dtype=float32)]"
      ]
     },
     "execution_count": 9,
     "metadata": {},
     "output_type": "execute_result"
    }
   ],
   "source": [
    "model.get_weights()"
   ]
  },
  {
   "cell_type": "markdown",
   "id": "eb3ee15e-2662-4894-bd31-96cc1252b6de",
   "metadata": {},
   "source": [
    "## Binary Classification"
   ]
  },
  {
   "cell_type": "code",
   "execution_count": 10,
   "id": "2cdd2013-40ea-4e44-b94f-d48376092f54",
   "metadata": {},
   "outputs": [],
   "source": [
    "X, y = make_blobs(n_samples=1000, centers=2, n_features=1)"
   ]
  },
  {
   "cell_type": "code",
   "execution_count": 11,
   "id": "2f907f72-0da2-4d93-8556-8ad7c254ccd5",
   "metadata": {},
   "outputs": [
    {
     "data": {
      "text/html": [
       "<div>\n",
       "<style scoped>\n",
       "    .dataframe tbody tr th:only-of-type {\n",
       "        vertical-align: middle;\n",
       "    }\n",
       "\n",
       "    .dataframe tbody tr th {\n",
       "        vertical-align: top;\n",
       "    }\n",
       "\n",
       "    .dataframe thead th {\n",
       "        text-align: right;\n",
       "    }\n",
       "</style>\n",
       "<table border=\"1\" class=\"dataframe\">\n",
       "  <thead>\n",
       "    <tr style=\"text-align: right;\">\n",
       "      <th></th>\n",
       "      <th>X</th>\n",
       "      <th>y</th>\n",
       "    </tr>\n",
       "  </thead>\n",
       "  <tbody>\n",
       "    <tr>\n",
       "      <th>0</th>\n",
       "      <td>-4.387460</td>\n",
       "      <td>0</td>\n",
       "    </tr>\n",
       "    <tr>\n",
       "      <th>1</th>\n",
       "      <td>-4.179723</td>\n",
       "      <td>0</td>\n",
       "    </tr>\n",
       "    <tr>\n",
       "      <th>2</th>\n",
       "      <td>-6.454415</td>\n",
       "      <td>0</td>\n",
       "    </tr>\n",
       "    <tr>\n",
       "      <th>3</th>\n",
       "      <td>9.148930</td>\n",
       "      <td>1</td>\n",
       "    </tr>\n",
       "    <tr>\n",
       "      <th>4</th>\n",
       "      <td>-4.105640</td>\n",
       "      <td>0</td>\n",
       "    </tr>\n",
       "  </tbody>\n",
       "</table>\n",
       "</div>"
      ],
      "text/plain": [
       "          X  y\n",
       "0 -4.387460  0\n",
       "1 -4.179723  0\n",
       "2 -6.454415  0\n",
       "3  9.148930  1\n",
       "4 -4.105640  0"
      ]
     },
     "execution_count": 11,
     "metadata": {},
     "output_type": "execute_result"
    }
   ],
   "source": [
    "pd.DataFrame({'X': np.squeeze(X), 'y': y}).head()"
   ]
  },
  {
   "cell_type": "code",
   "execution_count": 12,
   "id": "8c3c40fa-072f-4d38-b7d9-4f032a65eb9d",
   "metadata": {},
   "outputs": [],
   "source": [
    "# define the keras model\n",
    "model = Sequential()\n",
    "model.add(Dense(units=1, input_dim=1, activation = \"sigmoid\"))\n",
    "\n",
    "# compile the keras model\n",
    "model.compile(loss='binary_crossentropy', optimizer='sgd')\n",
    "\n",
    "# fit the model\n",
    "history = model.fit(X, y, epochs=50, verbose=False)"
   ]
  },
  {
   "cell_type": "code",
   "execution_count": 13,
   "id": "578591e6-9aa6-453c-b92a-36d3567415b4",
   "metadata": {},
   "outputs": [
    {
     "name": "stdout",
     "output_type": "stream",
     "text": [
      "32/32 [==============================] - 0s 548us/step - loss: 0.0042\n"
     ]
    },
    {
     "data": {
      "text/plain": [
       "0.004207751713693142"
      ]
     },
     "execution_count": 13,
     "metadata": {},
     "output_type": "execute_result"
    }
   ],
   "source": [
    "model.evaluate(X, y)"
   ]
  },
  {
   "cell_type": "code",
   "execution_count": 14,
   "id": "5352cec3-6e7f-406c-91bc-39b6fb6ef8f4",
   "metadata": {},
   "outputs": [
    {
     "data": {
      "text/plain": [
       "<AxesSubplot:xlabel='epoch', ylabel='loss'>"
      ]
     },
     "execution_count": 14,
     "metadata": {},
     "output_type": "execute_result"
    },
    {
     "data": {
      "image/png": "[encoded data removed]",
      "text/plain": [
       "<Figure size 432x288 with 1 Axes>"
      ]
     },
     "metadata": {
      "needs_background": "light"
     },
     "output_type": "display_data"
    }
   ],
   "source": [
    "pd.DataFrame({\n",
    "    'epoch': history.epoch,\n",
    "    'loss': history.history['loss']\n",
    "}).plot.scatter(x='epoch', y='loss')"
   ]
  },
  {
   "cell_type": "markdown",
   "id": "a5c98c30-5b1a-4afa-8827-5e464dcc3201",
   "metadata": {},
   "source": [
    "## Learning rate and momentum"
   ]
  },
  {
   "cell_type": "code",
   "execution_count": 15,
   "id": "7efeaa7e-a70d-427f-8922-7c4cbee2b87c",
   "metadata": {},
   "outputs": [
    {
     "name": "stdout",
     "output_type": "stream",
     "text": [
      "Epoch 1/10\n",
      "32/32 [==============================] - 0s 654us/step - loss: 0.0269\n",
      "Epoch 2/10\n",
      "32/32 [==============================] - 0s 640us/step - loss: 0.0064\n",
      "Epoch 3/10\n",
      "32/32 [==============================] - 0s 674us/step - loss: 0.0041\n",
      "Epoch 4/10\n",
      "32/32 [==============================] - 0s 734us/step - loss: 0.0031\n",
      "Epoch 5/10\n",
      "32/32 [==============================] - 0s 612us/step - loss: 0.0025\n",
      "Epoch 6/10\n",
      "32/32 [==============================] - 0s 625us/step - loss: 0.0021\n",
      "Epoch 7/10\n",
      "32/32 [==============================] - 0s 570us/step - loss: 0.0018\n",
      "Epoch 8/10\n",
      "32/32 [==============================] - 0s 550us/step - loss: 0.0016\n",
      "Epoch 9/10\n",
      "32/32 [==============================] - 0s 664us/step - loss: 0.0014\n",
      "Epoch 10/10\n",
      "32/32 [==============================] - 0s 563us/step - loss: 0.0013\n"
     ]
    },
    {
     "data": {
      "text/plain": [
       "<keras.callbacks.History at 0x16a3829d0>"
      ]
     },
     "execution_count": 15,
     "metadata": {},
     "output_type": "execute_result"
    }
   ],
   "source": [
    "# define the keras model\n",
    "model = Sequential()\n",
    "model.add(Dense(units=1, input_dim=1, activation = \"sigmoid\"))\n",
    "\n",
    "# compile the keras model\n",
    "model.compile(loss='binary_crossentropy', optimizer=SGD(learning_rate=0.2))\n",
    "\n",
    "# fit the model\n",
    "model.fit(X, y, epochs=10)"
   ]
  },
  {
   "cell_type": "code",
   "execution_count": 16,
   "id": "16c9fd1f-adb4-4186-b355-e332ecaf7a4f",
   "metadata": {},
   "outputs": [
    {
     "name": "stdout",
     "output_type": "stream",
     "text": [
      "Epoch 1/10\n",
      "32/32 [==============================] - 0s 652us/step - loss: 0.0921\n",
      "Epoch 2/10\n",
      "32/32 [==============================] - 0s 653us/step - loss: 0.0400\n",
      "Epoch 3/10\n",
      "32/32 [==============================] - 0s 642us/step - loss: 0.0272\n",
      "Epoch 4/10\n",
      "32/32 [==============================] - 0s 675us/step - loss: 0.0210\n",
      "Epoch 5/10\n",
      "32/32 [==============================] - 0s 758us/step - loss: 0.0172\n",
      "Epoch 6/10\n",
      "32/32 [==============================] - 0s 569us/step - loss: 0.0147\n",
      "Epoch 7/10\n",
      "32/32 [==============================] - 0s 695us/step - loss: 0.0128\n",
      "Epoch 8/10\n",
      "32/32 [==============================] - 0s 696us/step - loss: 0.0114\n",
      "Epoch 9/10\n",
      "32/32 [==============================] - 0s 787us/step - loss: 0.0103\n",
      "Epoch 10/10\n",
      "32/32 [==============================] - 0s 657us/step - loss: 0.0094\n"
     ]
    },
    {
     "data": {
      "text/plain": [
       "<keras.callbacks.History at 0x16a446c40>"
      ]
     },
     "execution_count": 16,
     "metadata": {},
     "output_type": "execute_result"
    }
   ],
   "source": [
    "# define the keras model\n",
    "model = Sequential()\n",
    "model.add(Dense(units=1, input_dim=1, activation = \"sigmoid\"))\n",
    "\n",
    "# compile the keras model\n",
    "model.compile(loss='binary_crossentropy', optimizer=SGD(learning_rate=0.01, momentum=0.5))\n",
    "\n",
    "# fit the model\n",
    "model.fit(X, y, epochs=10)"
   ]
  },
  {
   "cell_type": "markdown",
   "id": "a7bb4415-033d-4c0b-8098-6c4bdcd7652e",
   "metadata": {},
   "source": [
    "## Non-linear Patterns"
   ]
  },
  {
   "cell_type": "code",
   "execution_count": 17,
   "id": "11b7b382-366e-45e0-a8a7-4fab26669def",
   "metadata": {},
   "outputs": [
    {
     "data": {
      "text/plain": [
       "<AxesSubplot:xlabel='X', ylabel='y'>"
      ]
     },
     "execution_count": 17,
     "metadata": {},
     "output_type": "execute_result"
    },
    {
     "data": {
      "image/png": "[encoded data removed]",
      "text/plain": [
       "<Figure size 432x288 with 1 Axes>"
      ]
     },
     "metadata": {
      "needs_background": "light"
     },
     "output_type": "display_data"
    }
   ],
   "source": [
    "df = pd.DataFrame({\n",
    "    'X': np.arange(0, 6, 0.01),\n",
    "    'y': np.sin(np.arange(0, 6, 0.01))\n",
    "})\n",
    "\n",
    "# add random noise to response variable\n",
    "e = np.random.uniform(-0.2, 0.2, (df.shape[0], 1))\n",
    "df[['y']] = df[['y']] + e\n",
    "\n",
    "# plot\n",
    "df.plot.scatter(x='X', y='y', s=1.5)"
   ]
  },
  {
   "cell_type": "code",
   "execution_count": 18,
   "id": "cf565119-f0bf-4f2f-a6d4-6e06d6247b0e",
   "metadata": {},
   "outputs": [],
   "source": [
    "X = df[['X']]\n",
    "y = df['y']"
   ]
  },
  {
   "cell_type": "code",
   "execution_count": 19,
   "id": "7e245628-8d66-4b46-b1bd-dcf8ff260dc9",
   "metadata": {},
   "outputs": [
    {
     "data": {
      "text/plain": [
       "<keras.callbacks.History at 0x16a562580>"
      ]
     },
     "execution_count": 19,
     "metadata": {},
     "output_type": "execute_result"
    }
   ],
   "source": [
    "# define the keras model\n",
    "model = Sequential()\n",
    "model.add(Dense(units=16, input_dim=1, activation = \"relu\"))\n",
    "model.add(Dense(units=1))\n",
    "\n",
    "# compile the keras model\n",
    "model.compile(loss='mse', optimizer=SGD(learning_rate=0.01, momentum=0.9))\n",
    "\n",
    "# fit the model\n",
    "model.fit(X, y, batch_size=32, epochs=50, verbose=False)"
   ]
  },
  {
   "cell_type": "code",
   "execution_count": 20,
   "id": "9dcd8a16-76c5-47c2-ad79-e4978523373e",
   "metadata": {},
   "outputs": [
    {
     "data": {
      "text/plain": [
       "[<matplotlib.lines.Line2D at 0x16ab548e0>]"
      ]
     },
     "execution_count": 20,
     "metadata": {},
     "output_type": "execute_result"
    },
    {
     "data": {
      "image/png": "[encoded data removed]",
      "text/plain": [
       "<Figure size 432x288 with 1 Axes>"
      ]
     },
     "metadata": {
      "needs_background": "light"
     },
     "output_type": "display_data"
    }
   ],
   "source": [
    "df[['pred']] = model.predict(X)\n",
    "# plot\n",
    "df.plot.scatter(x='X', y='y', s=1.5)\n",
    "plt.plot(df[['X']], df[['pred']], c='red')"
   ]
  },
  {
   "cell_type": "code",
   "execution_count": 21,
   "id": "8f9d9716-4d91-4f79-b23d-932c8f5b2359",
   "metadata": {},
   "outputs": [
    {
     "data": {
      "text/plain": [
       "[<matplotlib.lines.Line2D at 0x16ac90850>]"
      ]
     },
     "execution_count": 21,
     "metadata": {},
     "output_type": "execute_result"
    },
    {
     "data": {
      "image/png": "[encoded data removed]",
      "text/plain": [
       "<Figure size 432x288 with 1 Axes>"
      ]
     },
     "metadata": {
      "needs_background": "light"
     },
     "output_type": "display_data"
    }
   ],
   "source": [
    "# define the keras model\n",
    "model = Sequential()\n",
    "model.add(Dense(units=16, input_dim=1, activation=\"relu\"))\n",
    "model.add(Dense(units=16, activation=\"relu\"))\n",
    "model.add(Dense(units=1))\n",
    "\n",
    "# compile the keras model\n",
    "model.compile(loss='mse', optimizer=SGD(learning_rate=0.01, momentum=0.9))\n",
    "\n",
    "# fit the model\n",
    "model.fit(X, y, batch_size=16, epochs=50, verbose=False)\n",
    "          \n",
    "# plot results\n",
    "df[['pred']] = model.predict(X)\n",
    "# plot\n",
    "df.plot.scatter(x='X', y='y', s=1.5)\n",
    "plt.plot(df[['X']], df[['pred']], c='red')"
   ]
  },
  {
   "cell_type": "markdown",
   "id": "6914b2c5-5769-43e9-94e0-957c17f882e2",
   "metadata": {},
   "source": [
    "## Multi-predictor Multi-class Classification"
   ]
  },
  {
   "cell_type": "code",
   "execution_count": 22,
   "id": "005f6892-d7ca-4056-afae-48921d10b412",
   "metadata": {},
   "outputs": [],
   "source": [
    "X, y = make_blobs(n_samples=2000, centers=4, n_features=3)"
   ]
  },
  {
   "cell_type": "code",
   "execution_count": 23,
   "id": "3e43c7e1-e1f1-4757-9788-ce8a86af382a",
   "metadata": {},
   "outputs": [
    {
     "data": {
      "text/plain": [
       "array([[0., 1., 0., 0.],\n",
       "       [0., 0., 1., 0.],\n",
       "       [0., 0., 0., 1.],\n",
       "       ...,\n",
       "       [1., 0., 0., 0.],\n",
       "       [1., 0., 0., 0.],\n",
       "       [1., 0., 0., 0.]], dtype=float32)"
      ]
     },
     "execution_count": 23,
     "metadata": {},
     "output_type": "execute_result"
    }
   ],
   "source": [
    "# categorical encoding of y array\n",
    "y = utils.to_categorical(y)\n",
    "y"
   ]
  },
  {
   "cell_type": "code",
   "execution_count": 24,
   "id": "c779ba6b-d0f4-4e93-81ef-3fb8878c144f",
   "metadata": {},
   "outputs": [
    {
     "data": {
      "text/plain": [
       "3"
      ]
     },
     "execution_count": 24,
     "metadata": {},
     "output_type": "execute_result"
    }
   ],
   "source": [
    "X.shape[1]"
   ]
  },
  {
   "cell_type": "code",
   "execution_count": 25,
   "id": "20f2491b-a8a9-48bd-a56f-f18f706532a8",
   "metadata": {},
   "outputs": [
    {
     "data": {
      "text/plain": [
       "(2000, 4)"
      ]
     },
     "execution_count": 25,
     "metadata": {},
     "output_type": "execute_result"
    }
   ],
   "source": [
    "y.shape"
   ]
  },
  {
   "cell_type": "markdown",
   "id": "3ae3dcc4-0421-4e5c-b7a3-8a290cdc82c9",
   "metadata": {},
   "source": [
    "### Fit model using validation"
   ]
  },
  {
   "cell_type": "code",
   "execution_count": 26,
   "id": "502573fa-15e1-43d8-a88b-af96085756c9",
   "metadata": {},
   "outputs": [],
   "source": [
    "# define the keras model\n",
    "model = Sequential()\n",
    "model.add(Dense(units=16, input_dim=X.shape[1], activation=\"relu\"))\n",
    "model.add(Dense(units=y.shape[1], activation='softmax'))\n",
    "\n",
    "# compile the keras model\n",
    "model.compile(\n",
    "    loss='categorical_crossentropy', \n",
    "    optimizer=SGD(learning_rate=0.01, momentum=0.9),\n",
    "    metrics='accuracy'\n",
    ")\n",
    "\n",
    "# fit the model\n",
    "history = model.fit(X, y, batch_size=32, epochs=20, validation_split=0.2, verbose=False)"
   ]
  },
  {
   "cell_type": "code",
   "execution_count": 27,
   "id": "3b61d724-bea9-45a2-801a-7f5c0bec4187",
   "metadata": {},
   "outputs": [
    {
     "data": {
      "image/png": "[encoded data removed]",
      "text/plain": [
       "<Figure size 720x432 with 1 Axes>"
      ]
     },
     "metadata": {
      "needs_background": "light"
     },
     "output_type": "display_data"
    }
   ],
   "source": [
    "pd.DataFrame(history.history).plot(figsize=(10,6))\n",
    "plt.show()"
   ]
  },
  {
   "cell_type": "code",
   "execution_count": null,
   "id": "fb85369b-d227-466e-b7b6-fedd0fdcb332",
   "metadata": {},
   "outputs": [],
   "source": []
  }
 ],
 "metadata": {
  "kernelspec": {
   "display_name": "Python 3 (ipykernel)",
   "language": "python",
   "name": "python3"
  },
  "language_info": {
   "codemirror_mode": {
    "name": "ipython",
    "version": 3
   },
   "file_extension": ".py",
   "mimetype": "text/x-python",
   "name": "python",
   "nbconvert_exporter": "python",
   "pygments_lexer": "ipython3",
   "version": "3.9.4"
  }
 },
 "nbformat": 4,
 "nbformat_minor": 5
}
